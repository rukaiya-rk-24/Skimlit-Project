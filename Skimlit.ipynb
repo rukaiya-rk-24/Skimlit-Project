{
  "cells": [
    {
      "cell_type": "code",
      "execution_count": null,
      "metadata": {
        "colab": {
          "base_uri": "https://localhost:8080/"
        },
        "id": "1UTJDB7tjoxN",
        "outputId": "cb926b82-4481-4eab-af20-0f81f9bdb9d9"
      },
      "outputs": [
        {
          "output_type": "stream",
          "name": "stdout",
          "text": [
            "fatal: destination path 'pubmed-rct' already exists and is not an empty directory.\n",
            "PubMed_200k_RCT\n",
            "PubMed_200k_RCT_numbers_replaced_with_at_sign\n",
            "PubMed_20k_RCT\n",
            "PubMed_20k_RCT_numbers_replaced_with_at_sign\n",
            "README.md\n"
          ]
        }
      ],
      "source": [
        "!git clone https://github.com/Franck-Dernoncourt/pubmed-rct.git\n",
        "!ls pubmed-rct"
      ]
    },
    {
      "cell_type": "code",
      "execution_count": null,
      "metadata": {
        "id": "vAXgXWQmk2LJ"
      },
      "outputs": [],
      "source": [
        "data_dir = \"/content/pubmed-rct/PubMed_20k_RCT_numbers_replaced_with_at_sign/\""
      ]
    },
    {
      "cell_type": "code",
      "execution_count": null,
      "metadata": {
        "colab": {
          "base_uri": "https://localhost:8080/"
        },
        "id": "WpxHx0FamP17",
        "outputId": "fd96599d-32db-4a0a-8f4d-8f39b6acbe39"
      },
      "outputs": [
        {
          "output_type": "execute_result",
          "data": {
            "text/plain": [
              "['/content/pubmed-rct/PubMed_20k_RCT_numbers_replaced_with_at_sign/dev.txt',\n",
              " '/content/pubmed-rct/PubMed_20k_RCT_numbers_replaced_with_at_sign/test.txt',\n",
              " '/content/pubmed-rct/PubMed_20k_RCT_numbers_replaced_with_at_sign/train.txt']"
            ]
          },
          "metadata": {},
          "execution_count": 142
        }
      ],
      "source": [
        "import os\n",
        "file_names = [data_dir + file for file in os.listdir(data_dir) ]\n",
        "file_names"
      ]
    },
    {
      "cell_type": "code",
      "execution_count": null,
      "metadata": {
        "id": "ci6xi1xVmgO3"
      },
      "outputs": [],
      "source": [
        "def get_lines(filename):\n",
        "  with open(filename,\"r\") as f:\n",
        "    return f.readlines()"
      ]
    },
    {
      "cell_type": "code",
      "execution_count": null,
      "metadata": {
        "id": "pGMVIkIEnKBe"
      },
      "outputs": [],
      "source": [
        "r = get_lines(data_dir + \"train.txt\")"
      ]
    },
    {
      "cell_type": "code",
      "execution_count": null,
      "metadata": {
        "id": "6BcYTg4Kny3G"
      },
      "outputs": [],
      "source": [
        "def preprocess_text(filename):\n",
        "  input = get_lines(filename)\n",
        "  abstract_lines = \"\"\n",
        "  abstract_samples = []\n",
        "  for line in input:\n",
        "    if line.startswith(\"###\"):\n",
        "      abs_id = line\n",
        "      abstract_lines = \"\"\n",
        "    elif line.isspace():\n",
        "      abs = abstract_lines.splitlines()\n",
        "      for num,l in enumerate(abs):\n",
        "        line_data = {}\n",
        "        target = l.split(\"\\t\")\n",
        "        line_data[\"target\"] = target[0]\n",
        "        line_data[\"text\"] = target[1]\n",
        "        line_data[\"line_number\"] = num\n",
        "        line_data[\"total_lines\"] = len(abs)-1\n",
        "      abstract_samples.append(line_data)\n",
        "    else:\n",
        "      abstract_lines+=line\n",
        "  return abstract_samples"
      ]
    },
    {
      "cell_type": "code",
      "execution_count": null,
      "metadata": {
        "id": "JAlOQgGPrxsZ"
      },
      "outputs": [],
      "source": [
        "train_samples = preprocess_text(data_dir + \"train.txt\")\n",
        "test_samples = preprocess_text(data_dir + \"test.txt\")\n",
        "dev_samples = preprocess_text(data_dir+\"dev.txt\")"
      ]
    },
    {
      "cell_type": "code",
      "execution_count": null,
      "metadata": {
        "colab": {
          "base_uri": "https://localhost:8080/"
        },
        "id": "mjLbYriSsdm5",
        "outputId": "f1f87d29-f6a6-4296-f6c5-e0c3ad0e93e8"
      },
      "outputs": [
        {
          "output_type": "execute_result",
          "data": {
            "text/plain": [
              "[{'target': 'CONCLUSIONS',\n",
              "  'text': 'Low-dose oral prednisolone had both a short-term and a longer sustained effect resulting in less knee pain , better physical function , and attenuation of systemic inflammation in older patients with knee OA ( ClinicalTrials.gov identifier NCT@ ) .',\n",
              "  'line_number': 11,\n",
              "  'total_lines': 11},\n",
              " {'target': 'CONCLUSIONS',\n",
              "  'text': 'Results further suggest that attention maintenance on food relates to eating motivation when in a neutral affective state , and might therefore be a cognitive mechanism contributing to increased food intake in general , but maybe not during sad mood .',\n",
              "  'line_number': 10,\n",
              "  'total_lines': 10},\n",
              " {'target': 'BACKGROUND',\n",
              "  'text': 'http://www.clinicaltrials.gov number NCT@ .',\n",
              "  'line_number': 14,\n",
              "  'total_lines': 14},\n",
              " {'target': 'BACKGROUND',\n",
              "  'text': 'Data management and statistical analyses were conducted independently by Vertical ( Paris , France ) .',\n",
              "  'line_number': 16,\n",
              "  'total_lines': 16},\n",
              " {'target': 'CONCLUSIONS',\n",
              "  'text': 'The findings suggest that recall with EM causes @-hchanges in memory vividness/emotionality , which may explain part of the EMDR treatment effect , and these effects are related to intervention duration .',\n",
              "  'line_number': 11,\n",
              "  'total_lines': 11},\n",
              " {'target': 'CONCLUSIONS',\n",
              "  'text': 'How the intervention can be brought to scale ( in particular , how to train physicians to use MI effectively and how best to train RDs and integrate them into primary care settings ) also merits future research .',\n",
              "  'line_number': 12,\n",
              "  'total_lines': 12},\n",
              " {'target': 'CONCLUSIONS',\n",
              "  'text': 'Antithrombin administration in patients with low AT activity after surgery with cardiopulmonary bypass reduces postoperative thrombin generation and fibrinolysis with no effects on platelet activation and inflammatory response .',\n",
              "  'line_number': 9,\n",
              "  'total_lines': 9},\n",
              " {'target': 'CONCLUSIONS',\n",
              "  'text': 'Non-transferred patients presenting to primary sites had the lowest event rates and the best long-term survival .',\n",
              "  'line_number': 10,\n",
              "  'total_lines': 10},\n",
              " {'target': 'CONCLUSIONS',\n",
              "  'text': 'We found no benefit in survival or severity of circulatory shock with targeted temperature management at @ C as compared to @ C in patients with shock on admission after OHCA .',\n",
              "  'line_number': 8,\n",
              "  'total_lines': 8},\n",
              " {'target': 'CONCLUSIONS',\n",
              "  'text': 'This pattern of increased activations in FH + youths may be at least partially due to impaired forebrain white matter development leading to greater activations/less efficient neural communication during task performance .',\n",
              "  'line_number': 7,\n",
              "  'total_lines': 7}]"
            ]
          },
          "metadata": {},
          "execution_count": 147
        }
      ],
      "source": [
        "train_samples[:10]"
      ]
    },
    {
      "cell_type": "code",
      "execution_count": null,
      "metadata": {
        "id": "UdHVuOaysloU"
      },
      "outputs": [],
      "source": [
        "import pandas as pd\n",
        "train_df = pd.DataFrame(train_samples)\n",
        "test_df = pd.DataFrame(test_samples)\n",
        "dev_df = pd.DataFrame(dev_samples)"
      ]
    },
    {
      "cell_type": "code",
      "execution_count": null,
      "metadata": {
        "colab": {
          "base_uri": "https://localhost:8080/",
          "height": 447
        },
        "id": "C4OHa9SPtVlu",
        "outputId": "d6ea7ce2-5b2e-41b7-b811-9906309791e0"
      },
      "outputs": [
        {
          "output_type": "execute_result",
          "data": {
            "text/plain": [
              "<Axes: ylabel='Frequency'>"
            ]
          },
          "metadata": {},
          "execution_count": 149
        },
        {
          "output_type": "display_data",
          "data": {
            "text/plain": [
              "<Figure size 640x480 with 1 Axes>"
            ],
            "image/png": "[encoded data removed]"
          },
          "metadata": {}
        }
      ],
      "source": [
        "train_df.total_lines.plot.hist()"
      ]
    },
    {
      "cell_type": "code",
      "execution_count": null,
      "metadata": {
        "colab": {
          "base_uri": "https://localhost:8080/"
        },
        "id": "7lSpi7Mqtt-3",
        "outputId": "21fbcc43-9216-4347-eff5-5e0c303e374d"
      },
      "outputs": [
        {
          "output_type": "execute_result",
          "data": {
            "text/plain": [
              "(15000, 2500, 2500)"
            ]
          },
          "metadata": {},
          "execution_count": 150
        }
      ],
      "source": [
        "train_sentences = train_df[\"text\"].tolist()\n",
        "val_sentences = dev_df[\"text\"].tolist()\n",
        "test_sentences = test_df[\"text\"].tolist()\n",
        "len(train_sentences), len(val_sentences), len(test_sentences)"
      ]
    },
    {
      "cell_type": "code",
      "execution_count": null,
      "metadata": {
        "colab": {
          "base_uri": "https://localhost:8080/"
        },
        "id": "TVmPqt2XtviZ",
        "outputId": "b8f7090e-8c6e-4841-da2a-e6babbd01841"
      },
      "outputs": [
        {
          "output_type": "execute_result",
          "data": {
            "text/plain": [
              "<15000x5 sparse matrix of type '<class 'numpy.float64'>'\n",
              "\twith 15000 stored elements in Compressed Sparse Row format>"
            ]
          },
          "metadata": {},
          "execution_count": 151
        }
      ],
      "source": [
        "from sklearn.preprocessing import OneHotEncoder\n",
        "encoder = OneHotEncoder(sparse_output=True)\n",
        "train_labels = encoder.fit_transform(train_df['target'].to_numpy().reshape(-1,1))\n",
        "train_labels"
      ]
    },
    {
      "cell_type": "code",
      "execution_count": null,
      "metadata": {
        "colab": {
          "base_uri": "https://localhost:8080/"
        },
        "id": "l_xTeXt2vAlA",
        "outputId": "4581dfbd-678d-4dbc-ff25-4bbdd9a085c2"
      },
      "outputs": [
        {
          "output_type": "execute_result",
          "data": {
            "text/plain": [
              "array([1, 1, 0, ..., 1, 1, 1])"
            ]
          },
          "metadata": {},
          "execution_count": 152
        }
      ],
      "source": [
        "from sklearn.preprocessing import LabelEncoder\n",
        "label_encoder = LabelEncoder()\n",
        "train_labels_encoded = label_encoder.fit_transform(train_df[\"target\"].to_numpy())\n",
        "val_labels_encoded = label_encoder.transform(dev_df[\"target\"].to_numpy())\n",
        "test_labels_encoded = label_encoder.transform(test_df[\"target\"].to_numpy())\n",
        "\n",
        "# Check what training labels look like\n",
        "train_labels_encoded"
      ]
    },
    {
      "cell_type": "code",
      "execution_count": null,
      "metadata": {
        "colab": {
          "base_uri": "https://localhost:8080/"
        },
        "id": "hXiVV5mqvN-Q",
        "outputId": "e2863d53-995c-4fa3-9397-e56954c5ab09"
      },
      "outputs": [
        {
          "output_type": "execute_result",
          "data": {
            "text/plain": [
              "(5,\n",
              " array(['BACKGROUND', 'CONCLUSIONS', 'METHODS', 'OBJECTIVE', 'RESULTS'],\n",
              "       dtype=object))"
            ]
          },
          "metadata": {},
          "execution_count": 153
        }
      ],
      "source": [
        "num_classes = len(label_encoder.classes_)\n",
        "class_names = label_encoder.classes_\n",
        "num_classes, class_names"
      ]
    },
    {
      "cell_type": "code",
      "execution_count": null,
      "metadata": {
        "colab": {
          "base_uri": "https://localhost:8080/",
          "height": 124
        },
        "id": "4GTiBRduwM8c",
        "outputId": "979c1915-6051-4202-9f9c-cd5e5741772c"
      },
      "outputs": [
        {
          "output_type": "execute_result",
          "data": {
            "text/plain": [
              "Pipeline(steps=[('tf-idf', TfidfVectorizer()), ('clf', MultinomialNB())])"
            ],
            "text/html": [
              "<style>#sk-container-id-3 {color: black;background-color: white;}#sk-container-id-3 pre{padding: 0;}#sk-container-id-3 div.sk-toggleable {background-color: white;}#sk-container-id-3 label.sk-toggleable__label {cursor: pointer;display: block;width: 100%;margin-bottom: 0;padding: 0.3em;box-sizing: border-box;text-align: center;}#sk-container-id-3 label.sk-toggleable__label-arrow:before {content: \"▸\";float: left;margin-right: 0.25em;color: #696969;}#sk-container-id-3 label.sk-toggleable__label-arrow:hover:before {color: black;}#sk-container-id-3 div.sk-estimator:hover label.sk-toggleable__label-arrow:before {color: black;}#sk-container-id-3 div.sk-toggleable__content {max-height: 0;max-width: 0;overflow: hidden;text-align: left;background-color: #f0f8ff;}#sk-container-id-3 div.sk-toggleable__content pre {margin: 0.2em;color: black;border-radius: 0.25em;background-color: #f0f8ff;}#sk-container-id-3 input.sk-toggleable__control:checked~div.sk-toggleable__content {max-height: 200px;max-width: 100%;overflow: auto;}#sk-container-id-3 input.sk-toggleable__control:checked~label.sk-toggleable__label-arrow:before {content: \"▾\";}#sk-container-id-3 div.sk-estimator input.sk-toggleable__control:checked~label.sk-toggleable__label {background-color: #d4ebff;}#sk-container-id-3 div.sk-label input.sk-toggleable__control:checked~label.sk-toggleable__label {background-color: #d4ebff;}#sk-container-id-3 input.sk-hidden--visually {border: 0;clip: rect(1px 1px 1px 1px);clip: rect(1px, 1px, 1px, 1px);height: 1px;margin: -1px;overflow: hidden;padding: 0;position: absolute;width: 1px;}#sk-container-id-3 div.sk-estimator {font-family: monospace;background-color: #f0f8ff;border: 1px dotted black;border-radius: 0.25em;box-sizing: border-box;margin-bottom: 0.5em;}#sk-container-id-3 div.sk-estimator:hover {background-color: #d4ebff;}#sk-container-id-3 div.sk-parallel-item::after {content: \"\";width: 100%;border-bottom: 1px solid gray;flex-grow: 1;}#sk-container-id-3 div.sk-label:hover label.sk-toggleable__label {background-color: #d4ebff;}#sk-container-id-3 div.sk-serial::before {content: \"\";position: absolute;border-left: 1px solid gray;box-sizing: border-box;top: 0;bottom: 0;left: 50%;z-index: 0;}#sk-container-id-3 div.sk-serial {display: flex;flex-direction: column;align-items: center;background-color: white;padding-right: 0.2em;padding-left: 0.2em;position: relative;}#sk-container-id-3 div.sk-item {position: relative;z-index: 1;}#sk-container-id-3 div.sk-parallel {display: flex;align-items: stretch;justify-content: center;background-color: white;position: relative;}#sk-container-id-3 div.sk-item::before, #sk-container-id-3 div.sk-parallel-item::before {content: \"\";position: absolute;border-left: 1px solid gray;box-sizing: border-box;top: 0;bottom: 0;left: 50%;z-index: -1;}#sk-container-id-3 div.sk-parallel-item {display: flex;flex-direction: column;z-index: 1;position: relative;background-color: white;}#sk-container-id-3 div.sk-parallel-item:first-child::after {align-self: flex-end;width: 50%;}#sk-container-id-3 div.sk-parallel-item:last-child::after {align-self: flex-start;width: 50%;}#sk-container-id-3 div.sk-parallel-item:only-child::after {width: 0;}#sk-container-id-3 div.sk-dashed-wrapped {border: 1px dashed gray;margin: 0 0.4em 0.5em 0.4em;box-sizing: border-box;padding-bottom: 0.4em;background-color: white;}#sk-container-id-3 div.sk-label label {font-family: monospace;font-weight: bold;display: inline-block;line-height: 1.2em;}#sk-container-id-3 div.sk-label-container {text-align: center;}#sk-container-id-3 div.sk-container {/* jupyter's `normalize.less` sets `[hidden] { display: none; }` but bootstrap.min.css set `[hidden] { display: none !important; }` so we also need the `!important` here to be able to override the default hidden behavior on the sphinx rendered scikit-learn.org. See: https://github.com/scikit-learn/scikit-learn/issues/21755 */display: inline-block !important;position: relative;}#sk-container-id-3 div.sk-text-repr-fallback {display: none;}</style><div id=\"sk-container-id-3\" class=\"sk-top-container\"><div class=\"sk-text-repr-fallback\"><pre>Pipeline(steps=[(&#x27;tf-idf&#x27;, TfidfVectorizer()), (&#x27;clf&#x27;, MultinomialNB())])</pre><b>In a Jupyter environment, please rerun this cell to show the HTML representation or trust the notebook. <br />On GitHub, the HTML representation is unable to render, please try loading this page with nbviewer.org.</b></div><div class=\"sk-container\" hidden><div class=\"sk-item sk-dashed-wrapped\"><div class=\"sk-label-container\"><div class=\"sk-label sk-toggleable\"><input class=\"sk-toggleable__control sk-hidden--visually\" id=\"sk-estimator-id-7\" type=\"checkbox\" ><label for=\"sk-estimator-id-7\" class=\"sk-toggleable__label sk-toggleable__label-arrow\">Pipeline</label><div class=\"sk-toggleable__content\"><pre>Pipeline(steps=[(&#x27;tf-idf&#x27;, TfidfVectorizer()), (&#x27;clf&#x27;, MultinomialNB())])</pre></div></div></div><div class=\"sk-serial\"><div class=\"sk-item\"><div class=\"sk-estimator sk-toggleable\"><input class=\"sk-toggleable__control sk-hidden--visually\" id=\"sk-estimator-id-8\" type=\"checkbox\" ><label for=\"sk-estimator-id-8\" class=\"sk-toggleable__label sk-toggleable__label-arrow\">TfidfVectorizer</label><div class=\"sk-toggleable__content\"><pre>TfidfVectorizer()</pre></div></div></div><div class=\"sk-item\"><div class=\"sk-estimator sk-toggleable\"><input class=\"sk-toggleable__control sk-hidden--visually\" id=\"sk-estimator-id-9\" type=\"checkbox\" ><label for=\"sk-estimator-id-9\" class=\"sk-toggleable__label sk-toggleable__label-arrow\">MultinomialNB</label><div class=\"sk-toggleable__content\"><pre>MultinomialNB()</pre></div></div></div></div></div></div></div>"
            ]
          },
          "metadata": {},
          "execution_count": 154
        }
      ],
      "source": [
        "from sklearn.feature_extraction.text import TfidfVectorizer\n",
        "from sklearn.naive_bayes import MultinomialNB\n",
        "from sklearn.pipeline import Pipeline\n",
        "\n",
        "model_0 = Pipeline([\n",
        "    (\"tf-idf\",TfidfVectorizer()),\n",
        "    (\"clf\",MultinomialNB())\n",
        "])\n",
        "\n",
        "model_0.fit(train_sentences,train_labels_encoded)"
      ]
    },
    {
      "cell_type": "code",
      "execution_count": null,
      "metadata": {
        "colab": {
          "base_uri": "https://localhost:8080/"
        },
        "id": "Zk2pYbgBxId9",
        "outputId": "3b73f1d2-7878-458b-b73b-82798f0d5edb"
      },
      "outputs": [
        {
          "output_type": "execute_result",
          "data": {
            "text/plain": [
              "0.9328"
            ]
          },
          "metadata": {},
          "execution_count": 155
        }
      ],
      "source": [
        "model_0.score(val_sentences,val_labels_encoded)"
      ]
    },
    {
      "cell_type": "code",
      "execution_count": null,
      "metadata": {
        "colab": {
          "base_uri": "https://localhost:8080/"
        },
        "id": "Qm0WlOTkxW8z",
        "outputId": "20837a05-4ab3-455e-da54-cef02a07d53c"
      },
      "outputs": [
        {
          "output_type": "execute_result",
          "data": {
            "text/plain": [
              "array([1, 1, 1, ..., 1, 1, 1])"
            ]
          },
          "metadata": {},
          "execution_count": 156
        }
      ],
      "source": [
        "base_preds = model_0.predict(test_sentences)\n",
        "base_preds"
      ]
    },
    {
      "cell_type": "code",
      "execution_count": null,
      "metadata": {
        "colab": {
          "base_uri": "https://localhost:8080/"
        },
        "id": "m_LPcDuJxiaW",
        "outputId": "606d44a5-8520-49ff-f1b0-c36bf0e46fda"
      },
      "outputs": [
        {
          "output_type": "stream",
          "name": "stdout",
          "text": [
            "--2023-07-17 09:19:05--  https://raw.githubusercontent.com/mrdbourke/tensorflow-deep-learning/main/extras/helper_functions.py\n",
            "Resolving raw.githubusercontent.com (raw.githubusercontent.com)... 185.199.111.133, 185.199.108.133, 185.199.110.133, ...\n",
            "Connecting to raw.githubusercontent.com (raw.githubusercontent.com)|185.199.111.133|:443... connected.\n",
            "HTTP request sent, awaiting response... 200 OK\n",
            "Length: 10246 (10K) [text/plain]\n",
            "Saving to: ‘helper_functions.py.9’\n",
            "\n",
            "\rhelper_functions.py   0%[                    ]       0  --.-KB/s               \rhelper_functions.py 100%[===================>]  10.01K  --.-KB/s    in 0s      \n",
            "\n",
            "2023-07-17 09:19:05 (56.4 MB/s) - ‘helper_functions.py.9’ saved [10246/10246]\n",
            "\n"
          ]
        }
      ],
      "source": [
        "!wget https://raw.githubusercontent.com/mrdbourke/tensorflow-deep-learning/main/extras/helper_functions.py\n"
      ]
    },
    {
      "cell_type": "code",
      "execution_count": null,
      "metadata": {
        "id": "Y0GAEr3JxnqK"
      },
      "outputs": [],
      "source": [
        "from helper_functions import calculate_results"
      ]
    },
    {
      "cell_type": "code",
      "execution_count": null,
      "metadata": {
        "colab": {
          "base_uri": "https://localhost:8080/"
        },
        "id": "WBW8g-yRxuMI",
        "outputId": "d367ab3a-f6f8-46c2-f35a-9fd1ee4edf38"
      },
      "outputs": [
        {
          "output_type": "stream",
          "name": "stderr",
          "text": [
            "/usr/local/lib/python3.10/dist-packages/sklearn/metrics/_classification.py:1344: UndefinedMetricWarning: Precision and F-score are ill-defined and being set to 0.0 in labels with no predicted samples. Use `zero_division` parameter to control this behavior.\n",
            "  _warn_prf(average, modifier, msg_start, len(result))\n"
          ]
        }
      ],
      "source": [
        "base_results= calculate_results(y_true = test_labels_encoded,y_pred=base_preds)"
      ]
    },
    {
      "cell_type": "code",
      "execution_count": null,
      "metadata": {
        "colab": {
          "base_uri": "https://localhost:8080/"
        },
        "id": "r3gTKWvMx81Z",
        "outputId": "f1367b7f-4117-4e34-be09-18b5bcab802f"
      },
      "outputs": [
        {
          "output_type": "execute_result",
          "data": {
            "text/plain": [
              "{'accuracy': 93.64,\n",
              " 'precision': 0.9176293982279466,\n",
              " 'recall': 0.9364,\n",
              " 'f1': 0.926836847251855}"
            ]
          },
          "metadata": {},
          "execution_count": 160
        }
      ],
      "source": [
        "base_results"
      ]
    },
    {
      "cell_type": "code",
      "execution_count": null,
      "metadata": {
        "id": "_geLyqzHx-9l"
      },
      "outputs": [],
      "source": [
        "import numpy as np\n",
        "import tensorflow as tf\n",
        "from tensorflow.keras import layers"
      ]
    },
    {
      "cell_type": "code",
      "execution_count": null,
      "metadata": {
        "colab": {
          "base_uri": "https://localhost:8080/"
        },
        "id": "8k-LPu1ny2A2",
        "outputId": "3226e425-4c8d-413a-f21d-319287b3ca65"
      },
      "outputs": [
        {
          "output_type": "execute_result",
          "data": {
            "text/plain": [
              "20.316933333333335"
            ]
          },
          "metadata": {},
          "execution_count": 162
        }
      ],
      "source": [
        "sent_lens = [len(sentence.split()) for sentence in train_sentences]\n",
        "avg_sent_len = np.mean(sent_lens)\n",
        "avg_sent_len # return average sentence length (in tokens)"
      ]
    },
    {
      "cell_type": "code",
      "execution_count": null,
      "metadata": {
        "colab": {
          "base_uri": "https://localhost:8080/",
          "height": 430
        },
        "id": "QV7qicvjy4Nv",
        "outputId": "8bde21f0-0dd9-4870-ac3f-a63636a5d7a3"
      },
      "outputs": [
        {
          "output_type": "display_data",
          "data": {
            "text/plain": [
              "<Figure size 640x480 with 1 Axes>"
            ],
            "image/png": "[encoded data removed]"
          },
          "metadata": {}
        }
      ],
      "source": [
        "import matplotlib.pyplot as plt\n",
        "plt.hist(sent_lens, bins=7);\n"
      ]
    },
    {
      "cell_type": "code",
      "execution_count": null,
      "metadata": {
        "colab": {
          "base_uri": "https://localhost:8080/"
        },
        "id": "YKMCr8GHy8DJ",
        "outputId": "a7d2faf8-6879-4a67-f525-127129476d06"
      },
      "outputs": [
        {
          "output_type": "execute_result",
          "data": {
            "text/plain": [
              "40"
            ]
          },
          "metadata": {},
          "execution_count": 164
        }
      ],
      "source": [
        "output_seq_len = int(np.percentile(sent_lens, 95))\n",
        "output_seq_len"
      ]
    },
    {
      "cell_type": "code",
      "execution_count": null,
      "metadata": {
        "colab": {
          "base_uri": "https://localhost:8080/"
        },
        "id": "a-UlQhB_zABm",
        "outputId": "f9c0fe05-7190-4f7c-ac48-47ac3b7b0b53"
      },
      "outputs": [
        {
          "output_type": "execute_result",
          "data": {
            "text/plain": [
              "215"
            ]
          },
          "metadata": {},
          "execution_count": 165
        }
      ],
      "source": [
        "max(sent_lens)"
      ]
    },
    {
      "cell_type": "code",
      "execution_count": null,
      "metadata": {
        "id": "v140RBn5zFhq"
      },
      "outputs": [],
      "source": [
        "from tensorflow.keras.layers import TextVectorization\n",
        "\n",
        "text_vectorizer = TextVectorization(max_tokens=68000, # number of words in vocabulary\n",
        "                                    output_sequence_length=40) # desired output length of vectorized sequences"
      ]
    },
    {
      "cell_type": "code",
      "execution_count": null,
      "metadata": {
        "id": "z7iY_gznzfMG"
      },
      "outputs": [],
      "source": [
        "text_vectorizer.adapt(train_sentences)"
      ]
    },
    {
      "cell_type": "code",
      "execution_count": null,
      "metadata": {
        "colab": {
          "base_uri": "https://localhost:8080/"
        },
        "id": "0rGqS0NYzplY",
        "outputId": "b28a87cc-bc4e-49ee-9a5d-257b5b2e5f95"
      },
      "outputs": [
        {
          "output_type": "stream",
          "name": "stdout",
          "text": [
            "Text:\n",
            "Netherlands Trial Register NTR@ .\n",
            "\n",
            "Length of text: 5\n",
            "\n",
            "Vectorized text:\n",
            "[[633  31 268 265   0   0   0   0   0   0   0   0   0   0   0   0   0   0\n",
            "    0   0   0   0   0   0   0   0   0   0   0   0   0   0   0   0   0   0\n",
            "    0   0   0   0]]\n"
          ]
        }
      ],
      "source": [
        "import random\n",
        "target_sentence = random.choice(train_sentences)\n",
        "print(f\"Text:\\n{target_sentence}\")\n",
        "print(f\"\\nLength of text: {len(target_sentence.split())}\")\n",
        "print(f\"\\nVectorized text:\\n{text_vectorizer([target_sentence])}\")"
      ]
    },
    {
      "cell_type": "code",
      "execution_count": null,
      "metadata": {
        "colab": {
          "base_uri": "https://localhost:8080/"
        },
        "id": "zxMUGrplz6HH",
        "outputId": "254e79c2-9950-43fc-9804-d3590486307c"
      },
      "outputs": [
        {
          "output_type": "stream",
          "name": "stdout",
          "text": [
            "Number of words in vocabulary: 20772\n",
            "Most common words in the vocabulary: ['', '[UNK]', 'the', 'of', 'and']\n",
            "Least common words in the vocabulary: ['aads', 'aadrenoceptor', 'aad', 'aaca', 'aaaaiawc']\n"
          ]
        }
      ],
      "source": [
        "rct_20k_text_vocab = text_vectorizer.get_vocabulary()\n",
        "print(f\"Number of words in vocabulary: {len(rct_20k_text_vocab)}\"),\n",
        "print(f\"Most common words in the vocabulary: {rct_20k_text_vocab[:5]}\")\n",
        "print(f\"Least common words in the vocabulary: {rct_20k_text_vocab[-5:]}\")"
      ]
    },
    {
      "cell_type": "code",
      "execution_count": null,
      "metadata": {
        "colab": {
          "base_uri": "https://localhost:8080/"
        },
        "id": "zVX1sC9t0dHB",
        "outputId": "0ba8333d-5f23-47d7-a659-6f0e1d3dfbd2"
      },
      "outputs": [
        {
          "output_type": "execute_result",
          "data": {
            "text/plain": [
              "{'name': 'text_vectorization_2',\n",
              " 'trainable': True,\n",
              " 'dtype': 'string',\n",
              " 'batch_input_shape': (None,),\n",
              " 'max_tokens': 68000,\n",
              " 'standardize': 'lower_and_strip_punctuation',\n",
              " 'split': 'whitespace',\n",
              " 'ngrams': None,\n",
              " 'output_mode': 'int',\n",
              " 'output_sequence_length': 40,\n",
              " 'pad_to_max_tokens': False,\n",
              " 'sparse': False,\n",
              " 'ragged': False,\n",
              " 'vocabulary': None,\n",
              " 'idf_weights': None,\n",
              " 'encoding': 'utf-8',\n",
              " 'vocabulary_size': 20772}"
            ]
          },
          "metadata": {},
          "execution_count": 170
        }
      ],
      "source": [
        "text_vectorizer.get_config()"
      ]
    },
    {
      "cell_type": "code",
      "execution_count": null,
      "metadata": {
        "id": "iAuPye8-IhTr"
      },
      "outputs": [],
      "source": [
        "token_embed = tf.keras.layers.Embedding(input_dim=len(rct_20k_text_vocab), # length of vocabulary\n",
        "                               output_dim=128, # Note: different embedding sizes result in drastically different numbers of parameters to train\n",
        "                               # Use masking to handle variable sequence lengths (save space)\n",
        "                               mask_zero=True,\n",
        "                               name=\"token_embedding\")\n"
      ]
    },
    {
      "cell_type": "code",
      "execution_count": null,
      "metadata": {
        "colab": {
          "base_uri": "https://localhost:8080/"
        },
        "id": "9Bh5GfdoJHP6",
        "outputId": "52e22bf2-12b7-4e11-e1ab-f7f3c4c86809"
      },
      "outputs": [
        {
          "output_type": "stream",
          "name": "stdout",
          "text": [
            "Sentence before vectorization:\n",
            "Netherlands Trial Register NTR@ .\n",
            "\n",
            "Sentence after vectorization (before embedding):\n",
            "[[633  31 268 265   0   0   0   0   0   0   0   0   0   0   0   0   0   0\n",
            "    0   0   0   0   0   0   0   0   0   0   0   0   0   0   0   0   0   0\n",
            "    0   0   0   0]]\n",
            "\n",
            "Sentence after embedding:\n",
            "[[[-0.04484637  0.0224561  -0.03955982 ...  0.02294916  0.01845006\n",
            "   -0.00610786]\n",
            "  [ 0.00117385 -0.04322764  0.03286388 ...  0.03471163  0.01984142\n",
            "    0.04045517]\n",
            "  [ 0.02267306  0.00483109  0.02750143 ... -0.00656642 -0.01248432\n",
            "    0.03167596]\n",
            "  ...\n",
            "  [-0.03977663  0.00201302  0.02011731 ... -0.04538285 -0.04412564\n",
            "   -0.00078707]\n",
            "  [-0.03977663  0.00201302  0.02011731 ... -0.04538285 -0.04412564\n",
            "   -0.00078707]\n",
            "  [-0.03977663  0.00201302  0.02011731 ... -0.04538285 -0.04412564\n",
            "   -0.00078707]]]\n",
            "\n",
            "Embedded sentence shape: (1, 40, 128)\n"
          ]
        }
      ],
      "source": [
        "print(f\"Sentence before vectorization:\\n{target_sentence}\\n\")\n",
        "vectorized_sentence = text_vectorizer([target_sentence])\n",
        "print(f\"Sentence after vectorization (before embedding):\\n{vectorized_sentence}\\n\")\n",
        "embedded_sentence = token_embed(vectorized_sentence)\n",
        "print(f\"Sentence after embedding:\\n{embedded_sentence}\\n\")\n",
        "print(f\"Embedded sentence shape: {embedded_sentence.shape}\")"
      ]
    },
    {
      "cell_type": "code",
      "execution_count": null,
      "metadata": {
        "colab": {
          "base_uri": "https://localhost:8080/"
        },
        "id": "M8GP3znLJY7T",
        "outputId": "9ba0b4fc-3756-44fb-b69a-209bd14c7c37"
      },
      "outputs": [
        {
          "output_type": "stream",
          "name": "stderr",
          "text": [
            "/usr/local/lib/python3.10/dist-packages/sklearn/preprocessing/_encoders.py:868: FutureWarning: `sparse` was renamed to `sparse_output` in version 1.2 and will be removed in 1.4. `sparse_output` is ignored unless you leave `sparse` to its default value.\n",
            "  warnings.warn(\n"
          ]
        },
        {
          "output_type": "execute_result",
          "data": {
            "text/plain": [
              "<_TensorSliceDataset element_spec=(TensorSpec(shape=(), dtype=tf.string, name=None), TensorSpec(shape=(5,), dtype=tf.float64, name=None))>"
            ]
          },
          "metadata": {},
          "execution_count": 173
        }
      ],
      "source": [
        "one_hot_encoder = OneHotEncoder(sparse=False)\n",
        "\n",
        "train_labels_one_hot = one_hot_encoder.fit_transform(train_df[\"target\"].to_numpy().reshape(-1, 1))\n",
        "val_labels_one_hot = one_hot_encoder.transform(dev_df[\"target\"].to_numpy().reshape(-1, 1))\n",
        "test_labels_one_hot = one_hot_encoder.transform(test_df[\"target\"].to_numpy().reshape(-1, 1))\n",
        "\n",
        "train_dataset = tf.data.Dataset.from_tensor_slices((train_sentences, train_labels_one_hot))\n",
        "valid_dataset = tf.data.Dataset.from_tensor_slices((val_sentences, val_labels_one_hot))\n",
        "test_data = tf.data.Dataset.from_tensor_slices((test_sentences, test_labels_one_hot))\n",
        "\n",
        "train_dataset"
      ]
    },
    {
      "cell_type": "code",
      "execution_count": null,
      "metadata": {
        "id": "iYGAnAQALTOf"
      },
      "outputs": [],
      "source": [
        "train_dataset = train_dataset.batch(32).prefetch(tf.data.AUTOTUNE)\n",
        "test_data = test_data.batch(32).prefetch(tf.data.AUTOTUNE)\n",
        "valid_dataset = valid_dataset.batch(32).prefetch(tf.data.AUTOTUNE)"
      ]
    },
    {
      "cell_type": "code",
      "execution_count": null,
      "metadata": {
        "colab": {
          "base_uri": "https://localhost:8080/"
        },
        "id": "UhIqWR4hMDOE",
        "outputId": "6d916476-1558-4fee-ab76-ed715563b0fd"
      },
      "outputs": [
        {
          "output_type": "execute_result",
          "data": {
            "text/plain": [
              "<_PrefetchDataset element_spec=(TensorSpec(shape=(None,), dtype=tf.string, name=None), TensorSpec(shape=(None, 5), dtype=tf.float64, name=None))>"
            ]
          },
          "metadata": {},
          "execution_count": 175
        }
      ],
      "source": [
        "train_dataset"
      ]
    },
    {
      "cell_type": "code",
      "execution_count": null,
      "metadata": {
        "colab": {
          "base_uri": "https://localhost:8080/"
        },
        "id": "eHdDUmWIMMkB",
        "outputId": "2437777d-22a2-4990-c21f-e2788926004e"
      },
      "outputs": [
        {
          "output_type": "stream",
          "name": "stdout",
          "text": [
            "Model: \"model_12\"\n",
            "_________________________________________________________________\n",
            " Layer (type)                Output Shape              Param #   \n",
            "=================================================================\n",
            " input_11 (InputLayer)       [(None, 1)]               0         \n",
            "                                                                 \n",
            " text_vectorization_2 (TextV  (None, 40)               0         \n",
            " ectorization)                                                   \n",
            "                                                                 \n",
            " token_embedding (Embedding)  (None, 40, 128)          2658816   \n",
            "                                                                 \n",
            " conv1d_5 (Conv1D)           (None, 36, 64)            41024     \n",
            "                                                                 \n",
            " conv1d_6 (Conv1D)           (None, 32, 32)            10272     \n",
            "                                                                 \n",
            " global_max_pooling1d_3 (Glo  (None, 32)               0         \n",
            " balMaxPooling1D)                                                \n",
            "                                                                 \n",
            " dense_13 (Dense)            (None, 5)                 165       \n",
            "                                                                 \n",
            "=================================================================\n",
            "Total params: 2,710,277\n",
            "Trainable params: 2,710,277\n",
            "Non-trainable params: 0\n",
            "_________________________________________________________________\n"
          ]
        }
      ],
      "source": [
        "inputs = tf.keras.layers.Input(shape=(1,),dtype='string')\n",
        "x = text_vectorizer(inputs)\n",
        "x = token_embed(x)\n",
        "x = tf.keras.layers.Conv1D(64,5,activation='tanh')(x)\n",
        "x = tf.keras.layers.Conv1D(32,5,activation='tanh')(x)\n",
        "x = tf.keras.layers.GlobalMaxPooling1D()(x)\n",
        "\n",
        "outputs = tf.keras.layers.Dense(5,activation='sigmoid')(x)\n",
        "model_1 = tf.keras.Model(inputs,outputs)\n",
        "\n",
        "model_1.summary()"
      ]
    },
    {
      "cell_type": "code",
      "execution_count": null,
      "metadata": {
        "id": "5DVEUrcDNTVw"
      },
      "outputs": [],
      "source": [
        "model_1.compile(loss='categorical_crossentropy',\n",
        "                optimizer='adam',\n",
        "                metrics=['accuracy'])"
      ]
    },
    {
      "cell_type": "code",
      "execution_count": null,
      "metadata": {
        "colab": {
          "base_uri": "https://localhost:8080/"
        },
        "id": "vpNvk7YON6bW",
        "outputId": "5b21d4ed-dfc5-47db-92a4-ceb40bdd4326"
      },
      "outputs": [
        {
          "output_type": "stream",
          "name": "stdout",
          "text": [
            "Epoch 1/10\n",
            "469/469 [==============================] - 43s 88ms/step - loss: 0.2357 - accuracy: 0.9395 - val_loss: 0.1925 - val_accuracy: 0.9464\n",
            "Epoch 2/10\n",
            "469/469 [==============================] - 22s 47ms/step - loss: 0.1027 - accuracy: 0.9669 - val_loss: 0.1867 - val_accuracy: 0.9598\n",
            "Epoch 3/10\n",
            "469/469 [==============================] - 24s 51ms/step - loss: 0.0637 - accuracy: 0.9780 - val_loss: 0.1966 - val_accuracy: 0.9643\n",
            "Epoch 4/10\n",
            "469/469 [==============================] - 22s 47ms/step - loss: 0.0477 - accuracy: 0.9842 - val_loss: 0.2030 - val_accuracy: 0.9643\n",
            "Epoch 5/10\n",
            "469/469 [==============================] - 23s 48ms/step - loss: 0.0419 - accuracy: 0.9861 - val_loss: 0.2087 - val_accuracy: 0.9598\n",
            "Epoch 6/10\n",
            "469/469 [==============================] - 22s 46ms/step - loss: 0.0388 - accuracy: 0.9873 - val_loss: 0.2139 - val_accuracy: 0.9598\n",
            "Epoch 7/10\n",
            "469/469 [==============================] - 23s 49ms/step - loss: 0.0363 - accuracy: 0.9885 - val_loss: 0.2265 - val_accuracy: 0.9643\n",
            "Epoch 8/10\n",
            "469/469 [==============================] - 22s 47ms/step - loss: 0.0347 - accuracy: 0.9891 - val_loss: 0.2321 - val_accuracy: 0.9643\n",
            "Epoch 9/10\n",
            "469/469 [==============================] - 22s 48ms/step - loss: 0.0336 - accuracy: 0.9893 - val_loss: 0.2400 - val_accuracy: 0.9643\n",
            "Epoch 10/10\n",
            "469/469 [==============================] - 22s 46ms/step - loss: 0.0338 - accuracy: 0.9889 - val_loss: 0.2314 - val_accuracy: 0.9688\n"
          ]
        }
      ],
      "source": [
        "result = model_1.fit(train_dataset,\n",
        "                     epochs=10,\n",
        "                     validation_data=valid_dataset,\n",
        "                     validation_steps=int(0.1 * len(valid_dataset)))"
      ]
    },
    {
      "cell_type": "code",
      "execution_count": null,
      "metadata": {
        "colab": {
          "base_uri": "https://localhost:8080/"
        },
        "id": "5WRDPBMCyWd3",
        "outputId": "9e57d265-8a09-45ea-926f-a2e900d7cd67"
      },
      "outputs": [
        {
          "output_type": "stream",
          "name": "stdout",
          "text": [
            "79/79 [==============================] - 1s 6ms/step\n"
          ]
        }
      ],
      "source": [
        "model_1_preds= model_1.predict(test_data)\n",
        "model_1_probs = tf.argmax(model_1_preds,axis=1)\n",
        "model_1_results = calculate_results(y_true=test_labels_encoded,y_pred=model_1_probs)"
      ]
    },
    {
      "cell_type": "code",
      "execution_count": null,
      "metadata": {
        "id": "4yuWHHP5ONtL"
      },
      "outputs": [],
      "source": [
        "import tensorflow_hub as hub\n",
        "\n",
        "tf_hub_embedding_layer = hub.KerasLayer(\"https://tfhub.dev/google/universal-sentence-encoder/4\",\n",
        "                                        trainable=False,\n",
        "                                        name=\"universal_sentence_encoder\")"
      ]
    },
    {
      "cell_type": "code",
      "execution_count": null,
      "metadata": {
        "colab": {
          "base_uri": "https://localhost:8080/"
        },
        "id": "VcigMDVeS3TR",
        "outputId": "84c27a6f-3373-4da6-c74d-ccb93d7d73ee"
      },
      "outputs": [
        {
          "output_type": "stream",
          "name": "stdout",
          "text": [
            "Random training sentence:\n",
            "ClinicalTrials.gov : NCT@ ; http://clinicaltrials.gov/show/NCT@ ( Archived by WebCite at http://www.webcitation.org/@R@gDAK@K ) .\n",
            "\n",
            "Sentence after embedding:\n",
            "[ 0.04547628  0.06453998  0.07804038 -0.06285995 -0.0402746   0.05788327\n",
            "  0.06285135  0.04468273 -0.00465066  0.00782256  0.00409762  0.04163318\n",
            " -0.00448361  0.01399383  0.02480791  0.01129121 -0.00403459 -0.04336949\n",
            " -0.00627056 -0.01102115 -0.05389664  0.07449102 -0.07122834 -0.04326382\n",
            " -0.03162292  0.02194191 -0.01501887  0.03743997 -0.04039709  0.03720411] (truncated output)...\n",
            "\n",
            "Length of sentence embedding:\n",
            "512\n"
          ]
        }
      ],
      "source": [
        "random_training_sentence = random.choice(train_sentences)\n",
        "print(f\"Random training sentence:\\n{random_training_sentence}\\n\")\n",
        "use_embedded_sentence = tf_hub_embedding_layer([random_training_sentence])\n",
        "print(f\"Sentence after embedding:\\n{use_embedded_sentence[0][:30]} (truncated output)...\\n\")\n",
        "print(f\"Length of sentence embedding:\\n{len(use_embedded_sentence[0])}\")"
      ]
    },
    {
      "cell_type": "code",
      "execution_count": null,
      "metadata": {
        "id": "CVb68mJoS7f_"
      },
      "outputs": [],
      "source": [
        "inputs = tf.keras.layers.Input(shape=[],dtype='string')\n",
        "pre = tf_hub_embedding_layer(inputs)\n",
        "x = tf.keras.layers.Dense(128,activation='tanh')(pre)\n",
        "outputs = tf.keras.layers.Dense(5,activation='sigmoid')(x)\n",
        "model_2 = tf.keras.Model(inputs,outputs)"
      ]
    },
    {
      "cell_type": "code",
      "execution_count": null,
      "metadata": {
        "colab": {
          "base_uri": "https://localhost:8080/"
        },
        "id": "B5hlWUsdhAIl",
        "outputId": "1199d5dc-2f03-48f7-99ba-46d73497be6e"
      },
      "outputs": [
        {
          "output_type": "stream",
          "name": "stdout",
          "text": [
            "Model: \"model_13\"\n",
            "_________________________________________________________________\n",
            " Layer (type)                Output Shape              Param #   \n",
            "=================================================================\n",
            " input_12 (InputLayer)       [(None,)]                 0         \n",
            "                                                                 \n",
            " universal_sentence_encoder   (None, 512)              256797824 \n",
            " (KerasLayer)                                                    \n",
            "                                                                 \n",
            " dense_14 (Dense)            (None, 128)               65664     \n",
            "                                                                 \n",
            " dense_15 (Dense)            (None, 5)                 645       \n",
            "                                                                 \n",
            "=================================================================\n",
            "Total params: 256,864,133\n",
            "Trainable params: 66,309\n",
            "Non-trainable params: 256,797,824\n",
            "_________________________________________________________________\n"
          ]
        }
      ],
      "source": [
        "model_2.summary()"
      ]
    },
    {
      "cell_type": "code",
      "execution_count": null,
      "metadata": {
        "colab": {
          "base_uri": "https://localhost:8080/"
        },
        "id": "6AtMchbphEjQ",
        "outputId": "364717cd-7779-40e9-e8e0-a6475dd5de66"
      },
      "outputs": [
        {
          "output_type": "stream",
          "name": "stdout",
          "text": [
            "Epoch 1/10\n",
            "469/469 [==============================] - 10s 16ms/step - loss: 0.2326 - accuracy: 0.9436 - val_loss: 0.1676 - val_accuracy: 0.9509\n",
            "Epoch 2/10\n",
            "469/469 [==============================] - 7s 15ms/step - loss: 0.1349 - accuracy: 0.9614 - val_loss: 0.1486 - val_accuracy: 0.9554\n",
            "Epoch 3/10\n",
            "469/469 [==============================] - 6s 13ms/step - loss: 0.1242 - accuracy: 0.9645 - val_loss: 0.1452 - val_accuracy: 0.9598\n",
            "Epoch 4/10\n",
            "469/469 [==============================] - 6s 13ms/step - loss: 0.1183 - accuracy: 0.9658 - val_loss: 0.1451 - val_accuracy: 0.9598\n",
            "Epoch 5/10\n",
            "469/469 [==============================] - 7s 15ms/step - loss: 0.1142 - accuracy: 0.9673 - val_loss: 0.1459 - val_accuracy: 0.9598\n",
            "Epoch 6/10\n",
            "469/469 [==============================] - 6s 12ms/step - loss: 0.1109 - accuracy: 0.9680 - val_loss: 0.1468 - val_accuracy: 0.9598\n",
            "Epoch 7/10\n",
            "469/469 [==============================] - 7s 15ms/step - loss: 0.1082 - accuracy: 0.9685 - val_loss: 0.1476 - val_accuracy: 0.9688\n",
            "Epoch 8/10\n",
            "469/469 [==============================] - 7s 15ms/step - loss: 0.1060 - accuracy: 0.9689 - val_loss: 0.1484 - val_accuracy: 0.9688\n",
            "Epoch 9/10\n",
            "469/469 [==============================] - 6s 12ms/step - loss: 0.1040 - accuracy: 0.9695 - val_loss: 0.1491 - val_accuracy: 0.9688\n",
            "Epoch 10/10\n",
            "469/469 [==============================] - 6s 12ms/step - loss: 0.1023 - accuracy: 0.9695 - val_loss: 0.1496 - val_accuracy: 0.9688\n"
          ]
        },
        {
          "output_type": "execute_result",
          "data": {
            "text/plain": [
              "<keras.callbacks.History at 0x7a66e83ae2c0>"
            ]
          },
          "metadata": {},
          "execution_count": 184
        }
      ],
      "source": [
        "model_2.compile(loss='categorical_crossentropy',\n",
        "                optimizer='adam',\n",
        "                metrics=['accuracy'])\n",
        "\n",
        "model_2.fit(train_dataset,\n",
        "                     epochs=10,\n",
        "                     validation_data=valid_dataset,\n",
        "                     validation_steps=int(0.1 * len(valid_dataset)))"
      ]
    },
    {
      "cell_type": "code",
      "execution_count": null,
      "metadata": {
        "colab": {
          "base_uri": "https://localhost:8080/"
        },
        "id": "huZ6_D06hitn",
        "outputId": "6a8f3e0a-952d-4779-bd93-1d0443c9ff37"
      },
      "outputs": [
        {
          "output_type": "stream",
          "name": "stdout",
          "text": [
            "79/79 [==============================] - 1s 10ms/step\n"
          ]
        },
        {
          "output_type": "execute_result",
          "data": {
            "text/plain": [
              "array([[7.0385491e-03, 9.9958295e-01, 2.2828697e-04, 9.2178024e-03,\n",
              "        7.9361957e-01],\n",
              "       [2.0148700e-02, 9.9859649e-01, 8.8613657e-03, 2.3138984e-03,\n",
              "        3.3956546e-01],\n",
              "       [8.4491968e-03, 9.9375278e-01, 4.4767302e-01, 2.8893791e-02,\n",
              "        3.8320559e-01],\n",
              "       ...,\n",
              "       [6.2595662e-03, 9.9874699e-01, 1.7606929e-02, 7.9996632e-03,\n",
              "        6.0541928e-01],\n",
              "       [4.7501147e-02, 9.9277270e-01, 9.8074935e-02, 5.0155120e-03,\n",
              "        3.0089530e-01],\n",
              "       [6.5194184e-01, 9.9680835e-01, 3.0522226e-06, 5.2228681e-04,\n",
              "        4.4453633e-01]], dtype=float32)"
            ]
          },
          "metadata": {},
          "execution_count": 185
        }
      ],
      "source": [
        "model_2_pred_probs = model_2.predict(valid_dataset)\n",
        "model_2_pred_probs"
      ]
    },
    {
      "cell_type": "code",
      "execution_count": null,
      "metadata": {
        "colab": {
          "base_uri": "https://localhost:8080/"
        },
        "id": "_YHu8zqpiRpH",
        "outputId": "54ae9347-367e-4903-ca4a-7bd5e15c62bd"
      },
      "outputs": [
        {
          "output_type": "execute_result",
          "data": {
            "text/plain": [
              "<tf.Tensor: shape=(2500,), dtype=int64, numpy=array([1, 1, 1, ..., 1, 1, 1])>"
            ]
          },
          "metadata": {},
          "execution_count": 186
        }
      ],
      "source": [
        "model_2_preds = tf.argmax(model_2_pred_probs, axis=1)\n",
        "model_2_preds"
      ]
    },
    {
      "cell_type": "code",
      "execution_count": null,
      "metadata": {
        "colab": {
          "base_uri": "https://localhost:8080/"
        },
        "id": "-IcCmjAxiYKS",
        "outputId": "e21f3bbc-89af-4e36-de02-aa55fe83ba4f"
      },
      "outputs": [
        {
          "output_type": "stream",
          "name": "stderr",
          "text": [
            "/usr/local/lib/python3.10/dist-packages/sklearn/metrics/_classification.py:1344: UndefinedMetricWarning: Precision and F-score are ill-defined and being set to 0.0 in labels with no predicted samples. Use `zero_division` parameter to control this behavior.\n",
            "  _warn_prf(average, modifier, msg_start, len(result))\n"
          ]
        },
        {
          "output_type": "execute_result",
          "data": {
            "text/plain": [
              "{'accuracy': 96.56,\n",
              " 'precision': 0.9607988894430589,\n",
              " 'recall': 0.9656,\n",
              " 'f1': 0.9631743871087969}"
            ]
          },
          "metadata": {},
          "execution_count": 187
        }
      ],
      "source": [
        "model_2_results = calculate_results(y_true=val_labels_encoded,\n",
        "                                    y_pred=model_2_preds)\n",
        "model_2_results"
      ]
    },
    {
      "cell_type": "code",
      "execution_count": null,
      "metadata": {
        "id": "Uqq06WhWidB7"
      },
      "outputs": [],
      "source": [
        "def split_chars(text):\n",
        "  return \" \".join(list(text))"
      ]
    },
    {
      "cell_type": "code",
      "execution_count": null,
      "metadata": {
        "colab": {
          "base_uri": "https://localhost:8080/"
        },
        "id": "PrkVoThvjftL",
        "outputId": "c44171b9-70ca-45a0-b3bd-56f2d8dc4acb"
      },
      "outputs": [
        {
          "output_type": "stream",
          "name": "stdout",
          "text": [
            "L o w - d o s e   o r a l   p r e d n i s o l o n e   h a d   b o t h   a   s h o r t - t e r m   a n d   a   l o n g e r   s u s t a i n e d   e f f e c t   r e s u l t i n g   i n   l e s s   k n e e   p a i n   ,   b e t t e r   p h y s i c a l   f u n c t i o n   ,   a n d   a t t e n u a t i o n   o f   s y s t e m i c   i n f l a m m a t i o n   i n   o l d e r   p a t i e n t s   w i t h   k n e e   O A   (   C l i n i c a l T r i a l s . g o v   i d e n t i f i e r   N C T @   )   .\n"
          ]
        }
      ],
      "source": [
        "train_chars = [split_chars(sentence) for sentence in train_sentences]\n",
        "val_chars = [split_chars(sentence) for sentence in val_sentences]\n",
        "test_chars = [split_chars(sentence) for sentence in test_sentences]\n",
        "print(train_chars[0])"
      ]
    },
    {
      "cell_type": "code",
      "execution_count": null,
      "metadata": {
        "colab": {
          "base_uri": "https://localhost:8080/"
        },
        "id": "kLJShWM8lDjB",
        "outputId": "2e3bf52b-af54-4c15-baea-36e3460552e7"
      },
      "outputs": [
        {
          "output_type": "execute_result",
          "data": {
            "text/plain": [
              "255"
            ]
          },
          "metadata": {},
          "execution_count": 190
        }
      ],
      "source": [
        "char_lens = [len(sentence) for sentence in train_sentences]\n",
        "output_seq_char_len = int(np.percentile(char_lens, 95))\n",
        "output_seq_char_len"
      ]
    },
    {
      "cell_type": "code",
      "execution_count": null,
      "metadata": {
        "colab": {
          "base_uri": "https://localhost:8080/",
          "height": 35
        },
        "id": "rg0eolwUjqvn",
        "outputId": "8183993d-5c50-48d2-8995-9cad6e157f8e"
      },
      "outputs": [
        {
          "output_type": "execute_result",
          "data": {
            "text/plain": [
              "'abcdefghijklmnopqrstuvwxyz0123456789!\"#$%&\\'()*+,-./:;<=>?@[\\\\]^_`{|}~'"
            ],
            "application/vnd.google.colaboratory.intrinsic+json": {
              "type": "string"
            }
          },
          "metadata": {},
          "execution_count": 191
        }
      ],
      "source": [
        "import string\n",
        "alphabet = string.ascii_lowercase + string.digits + string.punctuation\n",
        "alphabet"
      ]
    },
    {
      "cell_type": "code",
      "execution_count": null,
      "metadata": {
        "id": "2qelN84Dk8qe"
      },
      "outputs": [],
      "source": [
        "NUM_CHAR_TOKENS = len(alphabet) + 2 # num characters in alphabet + space + OOV token\n",
        "char_vectorizer = TextVectorization(max_tokens=NUM_CHAR_TOKENS,\n",
        "                                    output_sequence_length=output_seq_char_len,\n",
        "                                    standardize=\"lower_and_strip_punctuation\",\n",
        "                                    name=\"char_vectorizer\")\n",
        "\n",
        "# Adapt character vectorizer to training characters\n",
        "char_vectorizer.adapt(train_chars)"
      ]
    },
    {
      "cell_type": "code",
      "execution_count": null,
      "metadata": {
        "id": "iyxDKYfflBKI"
      },
      "outputs": [],
      "source": [
        "char_vectorizer.adapt(train_chars)"
      ]
    },
    {
      "cell_type": "code",
      "execution_count": null,
      "metadata": {
        "id": "QKUgXPXvlwp_"
      },
      "outputs": [],
      "source": [
        "char_vocab = char_vectorizer.get_vocabulary()"
      ]
    },
    {
      "cell_type": "code",
      "execution_count": null,
      "metadata": {
        "colab": {
          "base_uri": "https://localhost:8080/"
        },
        "id": "netaXUlbmCV4",
        "outputId": "75944297-849f-45ea-91b4-ddb25d5011fc"
      },
      "outputs": [
        {
          "output_type": "stream",
          "name": "stdout",
          "text": [
            "Number of different characters in character vocab: 28\n",
            "5 most common characters: ['', '[UNK]', 'e', 't', 'i']\n",
            "5 least common characters: ['k', 'x', 'q', 'z', 'j']\n"
          ]
        }
      ],
      "source": [
        "print(f\"Number of different characters in character vocab: {len(char_vocab)}\")\n",
        "print(f\"5 most common characters: {char_vocab[:5]}\")\n",
        "print(f\"5 least common characters: {char_vocab[-5:]}\")"
      ]
    },
    {
      "cell_type": "code",
      "execution_count": null,
      "metadata": {
        "id": "QhUa62OWmIg-"
      },
      "outputs": [],
      "source": [
        "char_embed = layers.Embedding(input_dim=NUM_CHAR_TOKENS, # number of different characters\n",
        "                              output_dim=25, # embedding dimension of each character (same as Figure 1 in https://arxiv.org/pdf/1612.05251.pdf)\n",
        "                              mask_zero=False, # don't use masks (this messes up model_5 if set to True)\n",
        "                              name=\"char_embed\")"
      ]
    },
    {
      "cell_type": "code",
      "execution_count": null,
      "metadata": {
        "id": "jA9bVzBgnEB3"
      },
      "outputs": [],
      "source": [
        "inputs = tf.keras.layers.Input(shape=[],dtype='string')\n",
        "x = char_vectorizer(inputs)\n",
        "x = char_embed(x)\n",
        "x = tf.keras.layers.Conv1D(10,5,padding='same',activation='tanh')(x)\n",
        "x = tf.keras.layers.GlobalMaxPool1D()(x)\n",
        "\n",
        "outputs = tf.keras.layers.Dense(5,activation='softmax')(x)\n",
        "\n",
        "model_3 = tf.keras.Model(inputs,outputs)"
      ]
    },
    {
      "cell_type": "code",
      "execution_count": null,
      "metadata": {
        "colab": {
          "base_uri": "https://localhost:8080/"
        },
        "id": "XzjWjFxzo-wA",
        "outputId": "2d165df4-0097-44c2-8990-c11f951433af"
      },
      "outputs": [
        {
          "output_type": "stream",
          "name": "stdout",
          "text": [
            "Model: \"model_14\"\n",
            "_________________________________________________________________\n",
            " Layer (type)                Output Shape              Param #   \n",
            "=================================================================\n",
            " input_13 (InputLayer)       [(None,)]                 0         \n",
            "                                                                 \n",
            " char_vectorizer (TextVector  (None, 255)              0         \n",
            " ization)                                                        \n",
            "                                                                 \n",
            " char_embed (Embedding)      (None, 255, 25)           1750      \n",
            "                                                                 \n",
            " conv1d_7 (Conv1D)           (None, 255, 10)           1260      \n",
            "                                                                 \n",
            " global_max_pooling1d_4 (Glo  (None, 10)               0         \n",
            " balMaxPooling1D)                                                \n",
            "                                                                 \n",
            " dense_16 (Dense)            (None, 5)                 55        \n",
            "                                                                 \n",
            "=================================================================\n",
            "Total params: 3,065\n",
            "Trainable params: 3,065\n",
            "Non-trainable params: 0\n",
            "_________________________________________________________________\n"
          ]
        }
      ],
      "source": [
        "model_3.compile(loss='categorical_crossentropy',\n",
        "                optimizer='adam',\n",
        "                metrics=['accuracy'])\n",
        "\n",
        "model_3.summary()"
      ]
    },
    {
      "cell_type": "code",
      "execution_count": null,
      "metadata": {
        "id": "_8bYCSuapLte"
      },
      "outputs": [],
      "source": [
        "train_char = tf.data.Dataset.from_tensor_slices((train_chars,train_labels_one_hot)).batch(32).prefetch(tf.data.AUTOTUNE)\n",
        "test_char = tf.data.Dataset.from_tensor_slices((val_chars,val_labels_one_hot)).batch(32).prefetch(tf.data.AUTOTUNE)\n",
        "val_char = tf.data.Dataset.from_tensor_slices((test_chars,test_labels_one_hot)).batch(32).prefetch(tf.data.AUTOTUNE)"
      ]
    },
    {
      "cell_type": "code",
      "execution_count": null,
      "metadata": {
        "colab": {
          "base_uri": "https://localhost:8080/"
        },
        "id": "RT894KM5prD5",
        "outputId": "b1a36e8d-708f-4994-a9ea-2ff090f14ead"
      },
      "outputs": [
        {
          "output_type": "stream",
          "name": "stdout",
          "text": [
            "Epoch 1/10\n",
            "469/469 [==============================] - 7s 13ms/step - loss: 0.5784 - accuracy: 0.8211 - val_loss: 0.3551 - val_accuracy: 0.8929\n",
            "Epoch 2/10\n",
            "469/469 [==============================] - 7s 16ms/step - loss: 0.2850 - accuracy: 0.9071 - val_loss: 0.3144 - val_accuracy: 0.9152\n",
            "Epoch 3/10\n",
            "469/469 [==============================] - 6s 13ms/step - loss: 0.2423 - accuracy: 0.9215 - val_loss: 0.2891 - val_accuracy: 0.9152\n",
            "Epoch 4/10\n",
            "469/469 [==============================] - 7s 15ms/step - loss: 0.2168 - accuracy: 0.9321 - val_loss: 0.2529 - val_accuracy: 0.9196\n",
            "Epoch 5/10\n",
            "469/469 [==============================] - 7s 16ms/step - loss: 0.1984 - accuracy: 0.9400 - val_loss: 0.2175 - val_accuracy: 0.9330\n",
            "Epoch 6/10\n",
            "469/469 [==============================] - 6s 13ms/step - loss: 0.1847 - accuracy: 0.9443 - val_loss: 0.1965 - val_accuracy: 0.9464\n",
            "Epoch 7/10\n",
            "469/469 [==============================] - 7s 15ms/step - loss: 0.1754 - accuracy: 0.9481 - val_loss: 0.1874 - val_accuracy: 0.9464\n",
            "Epoch 8/10\n",
            "469/469 [==============================] - 7s 15ms/step - loss: 0.1687 - accuracy: 0.9505 - val_loss: 0.1832 - val_accuracy: 0.9464\n",
            "Epoch 9/10\n",
            "469/469 [==============================] - 6s 13ms/step - loss: 0.1635 - accuracy: 0.9523 - val_loss: 0.1776 - val_accuracy: 0.9509\n",
            "Epoch 10/10\n",
            "469/469 [==============================] - 6s 13ms/step - loss: 0.1591 - accuracy: 0.9542 - val_loss: 0.1748 - val_accuracy: 0.9598\n"
          ]
        },
        {
          "output_type": "execute_result",
          "data": {
            "text/plain": [
              "<keras.callbacks.History at 0x7a66f41e1150>"
            ]
          },
          "metadata": {},
          "execution_count": 200
        }
      ],
      "source": [
        "model_3.fit(train_char,\n",
        "            epochs=10,\n",
        "            validation_data = val_char,\n",
        "            validation_steps = int(0.1*len(val_char)))"
      ]
    },
    {
      "cell_type": "code",
      "source": [
        "r = model_3.predict(test_char)\n",
        "preds = tf.argmax(r,axis=1)\n",
        "model_3_results = calculate_results(y_true=test_labels_encoded,\n",
        "                                    y_pred = preds)"
      ],
      "metadata": {
        "colab": {
          "base_uri": "https://localhost:8080/"
        },
        "id": "8i-e3HbmWIEE",
        "outputId": "be166eef-771c-4840-f111-de18a402b977"
      },
      "execution_count": null,
      "outputs": [
        {
          "output_type": "stream",
          "name": "stdout",
          "text": [
            "79/79 [==============================] - 1s 8ms/step\n"
          ]
        },
        {
          "output_type": "stream",
          "name": "stderr",
          "text": [
            "/usr/local/lib/python3.10/dist-packages/sklearn/metrics/_classification.py:1344: UndefinedMetricWarning: Precision and F-score are ill-defined and being set to 0.0 in labels with no predicted samples. Use `zero_division` parameter to control this behavior.\n",
            "  _warn_prf(average, modifier, msg_start, len(result))\n"
          ]
        }
      ]
    },
    {
      "cell_type": "code",
      "execution_count": null,
      "metadata": {
        "id": "ZasvnFH1qXej"
      },
      "outputs": [],
      "source": [
        "token_inputs = tf.keras.layers.Input(shape=[], dtype=tf.string)\n",
        "token_embeddings = tf_hub_embedding_layer(token_inputs)\n",
        "token_output = tf.keras.layers.Dense(128, activation=\"relu\")(token_embeddings)\n",
        "token_model = tf.keras.Model(inputs=token_inputs,\n",
        "                             outputs=token_output)"
      ]
    },
    {
      "cell_type": "code",
      "execution_count": null,
      "metadata": {
        "id": "9Z1ZO5dgtTXY"
      },
      "outputs": [],
      "source": [
        "char_i = tf.keras.layers.Input(shape=(1,), dtype=tf.string)\n",
        "x = char_vectorizer(char_i)\n",
        "x = char_embed(x)\n",
        "bii = tf.keras.layers.Bidirectional(tf.keras.layers.LSTM(24))(x)\n",
        "char_model = tf.keras.Model(char_i,bii)"
      ]
    },
    {
      "cell_type": "code",
      "execution_count": null,
      "metadata": {
        "id": "-t6yPcsZugKi"
      },
      "outputs": [],
      "source": [
        "combined = tf.keras.layers.Concatenate()([token_model.output,char_model.output])"
      ]
    },
    {
      "cell_type": "code",
      "execution_count": null,
      "metadata": {
        "id": "eI_eBzAjvDze"
      },
      "outputs": [],
      "source": [
        "drops = tf.keras.layers.Dropout(0.5)(combined)\n",
        "dense = tf.keras.layers.Dense(128,activation='tanh')(drops)\n",
        "final_dropout = tf.keras.layers.Dropout(0.5)(dense)\n",
        "output_layer = tf.keras.layers.Dense(5, activation=\"softmax\")(final_dropout)"
      ]
    },
    {
      "cell_type": "code",
      "execution_count": null,
      "metadata": {
        "id": "YcImQ_A0v2Y7"
      },
      "outputs": [],
      "source": [
        "model_4 = tf.keras.Model(inputs=[token_model.input,char_model.input],\n",
        "                         outputs=output_layer)"
      ]
    },
    {
      "cell_type": "code",
      "execution_count": null,
      "metadata": {
        "colab": {
          "base_uri": "https://localhost:8080/"
        },
        "id": "c8xuCpOKwlM7",
        "outputId": "a6f2c39a-6e68-4981-f1e1-4fd24bc23694"
      },
      "outputs": [
        {
          "output_type": "stream",
          "name": "stdout",
          "text": [
            "Model: \"model_17\"\n",
            "__________________________________________________________________________________________________\n",
            " Layer (type)                   Output Shape         Param #     Connected to                     \n",
            "==================================================================================================\n",
            " input_15 (InputLayer)          [(None, 1)]          0           []                               \n",
            "                                                                                                  \n",
            " input_14 (InputLayer)          [(None,)]            0           []                               \n",
            "                                                                                                  \n",
            " char_vectorizer (TextVectoriza  (None, 255)         0           ['input_15[0][0]']               \n",
            " tion)                                                                                            \n",
            "                                                                                                  \n",
            " universal_sentence_encoder (Ke  (None, 512)         256797824   ['input_14[0][0]']               \n",
            " rasLayer)                                                                                        \n",
            "                                                                                                  \n",
            " char_embed (Embedding)         (None, 255, 25)      1750        ['char_vectorizer[1][0]']        \n",
            "                                                                                                  \n",
            " dense_17 (Dense)               (None, 128)          65664       ['universal_sentence_encoder[1][0\n",
            "                                                                 ]']                              \n",
            "                                                                                                  \n",
            " bidirectional_2 (Bidirectional  (None, 48)          9600        ['char_embed[1][0]']             \n",
            " )                                                                                                \n",
            "                                                                                                  \n",
            " concatenate_3 (Concatenate)    (None, 176)          0           ['dense_17[0][0]',               \n",
            "                                                                  'bidirectional_2[0][0]']        \n",
            "                                                                                                  \n",
            " dropout_3 (Dropout)            (None, 176)          0           ['concatenate_3[0][0]']          \n",
            "                                                                                                  \n",
            " dense_18 (Dense)               (None, 128)          22656       ['dropout_3[0][0]']              \n",
            "                                                                                                  \n",
            " dropout_4 (Dropout)            (None, 128)          0           ['dense_18[0][0]']               \n",
            "                                                                                                  \n",
            " dense_19 (Dense)               (None, 5)            645         ['dropout_4[0][0]']              \n",
            "                                                                                                  \n",
            "==================================================================================================\n",
            "Total params: 256,898,139\n",
            "Trainable params: 100,315\n",
            "Non-trainable params: 256,797,824\n",
            "__________________________________________________________________________________________________\n"
          ]
        }
      ],
      "source": [
        "model_4.summary()"
      ]
    },
    {
      "cell_type": "code",
      "execution_count": null,
      "metadata": {
        "colab": {
          "base_uri": "https://localhost:8080/",
          "height": 976
        },
        "id": "hPy1ICxS00xA",
        "outputId": "b5c44581-cda7-4555-8869-25ec01130622"
      },
      "outputs": [
        {
          "output_type": "execute_result",
          "data": {
            "image/png": "[encoded data removed]",
            "text/plain": [
              "<IPython.core.display.Image object>"
            ]
          },
          "metadata": {},
          "execution_count": 207
        }
      ],
      "source": [
        "from keras.utils import plot_model\n",
        "plot_model(model_4,show_shapes=True)"
      ]
    },
    {
      "cell_type": "code",
      "execution_count": null,
      "metadata": {
        "id": "q_nxaMdg07V6"
      },
      "outputs": [],
      "source": [
        "model_4.compile(loss=\"categorical_crossentropy\",\n",
        "                optimizer=tf.keras.optimizers.Adam(), # section 4.2 of https://arxiv.org/pdf/1612.05251.pdf mentions using SGD but we'll stick with Adam\n",
        "                metrics=[\"accuracy\"])"
      ]
    },
    {
      "cell_type": "code",
      "execution_count": null,
      "metadata": {
        "id": "4r9KbONQ1iFq"
      },
      "outputs": [],
      "source": [
        "train_char_token_data = tf.data.Dataset.from_tensor_slices((train_sentences, train_chars)) # make data\n",
        "train_char_token_labels = tf.data.Dataset.from_tensor_slices(train_labels_one_hot) # make labels\n",
        "train_char_token_dataset = tf.data.Dataset.zip((train_char_token_data, train_char_token_labels)) # combine data and labels\n",
        "\n",
        "# Prefetch and batch train data\n",
        "train_char_token_dataset = train_char_token_dataset.batch(32).prefetch(tf.data.AUTOTUNE)\n",
        "\n",
        "# Repeat same steps validation data\n",
        "val_char_token_data = tf.data.Dataset.from_tensor_slices((val_sentences, val_chars))\n",
        "val_char_token_labels = tf.data.Dataset.from_tensor_slices(val_labels_one_hot)\n",
        "val_char_token_dataset = tf.data.Dataset.zip((val_char_token_data, val_char_token_labels))\n",
        "val_char_token_dataset = val_char_token_dataset.batch(32).prefetch(tf.data.AUTOTUNE)"
      ]
    },
    {
      "cell_type": "code",
      "execution_count": null,
      "metadata": {
        "colab": {
          "base_uri": "https://localhost:8080/"
        },
        "id": "wImeMuqE2hmx",
        "outputId": "beea1d92-cd75-4299-9355-2bac05c76ca3"
      },
      "outputs": [
        {
          "output_type": "stream",
          "name": "stdout",
          "text": [
            "Epoch 1/10\n",
            "469/469 [==============================] - 110s 223ms/step - loss: 0.2283 - accuracy: 0.9340 - val_loss: 0.1585 - val_accuracy: 0.9554\n",
            "Epoch 2/10\n",
            "469/469 [==============================] - 102s 218ms/step - loss: 0.1376 - accuracy: 0.9617 - val_loss: 0.1383 - val_accuracy: 0.9598\n",
            "Epoch 3/10\n",
            "469/469 [==============================] - 101s 214ms/step - loss: 0.1199 - accuracy: 0.9670 - val_loss: 0.1285 - val_accuracy: 0.9643\n",
            "Epoch 4/10\n",
            "469/469 [==============================] - 100s 214ms/step - loss: 0.1142 - accuracy: 0.9682 - val_loss: 0.1245 - val_accuracy: 0.9643\n",
            "Epoch 5/10\n",
            "469/469 [==============================] - 106s 226ms/step - loss: 0.1064 - accuracy: 0.9697 - val_loss: 0.1248 - val_accuracy: 0.9688\n",
            "Epoch 6/10\n",
            "469/469 [==============================] - 102s 218ms/step - loss: 0.0951 - accuracy: 0.9737 - val_loss: 0.1360 - val_accuracy: 0.9688\n",
            "Epoch 7/10\n",
            "469/469 [==============================] - 101s 215ms/step - loss: 0.0935 - accuracy: 0.9725 - val_loss: 0.1288 - val_accuracy: 0.9688\n",
            "Epoch 8/10\n",
            "469/469 [==============================] - 102s 218ms/step - loss: 0.0893 - accuracy: 0.9738 - val_loss: 0.1283 - val_accuracy: 0.9688\n",
            "Epoch 9/10\n",
            "469/469 [==============================] - 101s 215ms/step - loss: 0.0849 - accuracy: 0.9756 - val_loss: 0.1382 - val_accuracy: 0.9688\n",
            "Epoch 10/10\n",
            "469/469 [==============================] - 102s 218ms/step - loss: 0.0846 - accuracy: 0.9759 - val_loss: 0.1442 - val_accuracy: 0.9688\n"
          ]
        },
        {
          "output_type": "execute_result",
          "data": {
            "text/plain": [
              "<keras.callbacks.History at 0x7a6780986590>"
            ]
          },
          "metadata": {},
          "execution_count": 210
        }
      ],
      "source": [
        "model_4.fit(train_char_token_dataset,\n",
        "            epochs=10,\n",
        "            validation_data=val_char_token_dataset,\n",
        "            validation_steps=int(0.1 * len(val_char_token_dataset)))"
      ]
    },
    {
      "cell_type": "code",
      "execution_count": null,
      "metadata": {
        "colab": {
          "base_uri": "https://localhost:8080/"
        },
        "id": "4YEZaGfz3Ph9",
        "outputId": "8cfe418a-4106-4e31-c335-bbdf9b2e9328"
      },
      "outputs": [
        {
          "output_type": "stream",
          "name": "stdout",
          "text": [
            "79/79 [==============================] - 4s 48ms/step - loss: 0.0979 - accuracy: 0.9684\n"
          ]
        },
        {
          "output_type": "execute_result",
          "data": {
            "text/plain": [
              "[0.097887322306633, 0.9684000015258789]"
            ]
          },
          "metadata": {},
          "execution_count": 211
        }
      ],
      "source": [
        "model_4.evaluate(val_char_token_dataset)"
      ]
    },
    {
      "cell_type": "code",
      "execution_count": null,
      "metadata": {
        "colab": {
          "base_uri": "https://localhost:8080/"
        },
        "id": "bX9sssGK3bBg",
        "outputId": "76062985-8837-4eae-a77e-510d7266dce7"
      },
      "outputs": [
        {
          "output_type": "stream",
          "name": "stdout",
          "text": [
            "79/79 [==============================] - 6s 58ms/step\n"
          ]
        }
      ],
      "source": [
        "model_4_probs = model_4.predict(val_char_token_dataset)"
      ]
    },
    {
      "cell_type": "code",
      "execution_count": null,
      "metadata": {
        "id": "gyCbqQKe3s27"
      },
      "outputs": [],
      "source": [
        "model_4_preds = tf.argmax(model_4_probs,axis=1)"
      ]
    },
    {
      "cell_type": "code",
      "execution_count": null,
      "metadata": {
        "colab": {
          "base_uri": "https://localhost:8080/"
        },
        "id": "S-ct60ex310B",
        "outputId": "ad5c53c3-c775-49b4-f429-7ce47b50c0c5"
      },
      "outputs": [
        {
          "output_type": "stream",
          "name": "stderr",
          "text": [
            "/usr/local/lib/python3.10/dist-packages/sklearn/metrics/_classification.py:1344: UndefinedMetricWarning: Precision and F-score are ill-defined and being set to 0.0 in labels with no predicted samples. Use `zero_division` parameter to control this behavior.\n",
            "  _warn_prf(average, modifier, msg_start, len(result))\n"
          ]
        },
        {
          "output_type": "execute_result",
          "data": {
            "text/plain": [
              "{'accuracy': 96.84,\n",
              " 'precision': 0.9635860709884578,\n",
              " 'recall': 0.9684,\n",
              " 'f1': 0.9659658882410486}"
            ]
          },
          "metadata": {},
          "execution_count": 214
        }
      ],
      "source": [
        "model_4_results = calculate_results(y_true=val_labels_encoded,\n",
        "                                    y_pred = model_4_preds)\n",
        "model_4_results"
      ]
    },
    {
      "cell_type": "code",
      "execution_count": null,
      "metadata": {
        "colab": {
          "base_uri": "https://localhost:8080/",
          "height": 206
        },
        "id": "gcLepBgg4JK8",
        "outputId": "d2c3a4a7-8027-48f2-fdb0-18893efdec92"
      },
      "outputs": [
        {
          "output_type": "execute_result",
          "data": {
            "text/plain": [
              "        target                                               text  \\\n",
              "0  CONCLUSIONS  Low-dose oral prednisolone had both a short-te...   \n",
              "1  CONCLUSIONS  Results further suggest that attention mainten...   \n",
              "2   BACKGROUND        http://www.clinicaltrials.gov number NCT@ .   \n",
              "3   BACKGROUND  Data management and statistical analyses were ...   \n",
              "4  CONCLUSIONS  The findings suggest that recall with EM cause...   \n",
              "\n",
              "   line_number  total_lines  \n",
              "0           11           11  \n",
              "1           10           10  \n",
              "2           14           14  \n",
              "3           16           16  \n",
              "4           11           11  "
            ],
            "text/html": [
              "\n",
              "\n",
              "  <div id=\"df-61c76daf-bdd4-4f26-bf7e-ce025e9385ae\">\n",
              "    <div class=\"colab-df-container\">\n",
              "      <div>\n",
              "<style scoped>\n",
              "    .dataframe tbody tr th:only-of-type {\n",
              "        vertical-align: middle;\n",
              "    }\n",
              "\n",
              "    .dataframe tbody tr th {\n",
              "        vertical-align: top;\n",
              "    }\n",
              "\n",
              "    .dataframe thead th {\n",
              "        text-align: right;\n",
              "    }\n",
              "</style>\n",
              "<table border=\"1\" class=\"dataframe\">\n",
              "  <thead>\n",
              "    <tr style=\"text-align: right;\">\n",
              "      <th></th>\n",
              "      <th>target</th>\n",
              "      <th>text</th>\n",
              "      <th>line_number</th>\n",
              "      <th>total_lines</th>\n",
              "    </tr>\n",
              "  </thead>\n",
              "  <tbody>\n",
              "    <tr>\n",
              "      <th>0</th>\n",
              "      <td>CONCLUSIONS</td>\n",
              "      <td>Low-dose oral prednisolone had both a short-te...</td>\n",
              "      <td>11</td>\n",
              "      <td>11</td>\n",
              "    </tr>\n",
              "    <tr>\n",
              "      <th>1</th>\n",
              "      <td>CONCLUSIONS</td>\n",
              "      <td>Results further suggest that attention mainten...</td>\n",
              "      <td>10</td>\n",
              "      <td>10</td>\n",
              "    </tr>\n",
              "    <tr>\n",
              "      <th>2</th>\n",
              "      <td>BACKGROUND</td>\n",
              "      <td>http://www.clinicaltrials.gov number NCT@ .</td>\n",
              "      <td>14</td>\n",
              "      <td>14</td>\n",
              "    </tr>\n",
              "    <tr>\n",
              "      <th>3</th>\n",
              "      <td>BACKGROUND</td>\n",
              "      <td>Data management and statistical analyses were ...</td>\n",
              "      <td>16</td>\n",
              "      <td>16</td>\n",
              "    </tr>\n",
              "    <tr>\n",
              "      <th>4</th>\n",
              "      <td>CONCLUSIONS</td>\n",
              "      <td>The findings suggest that recall with EM cause...</td>\n",
              "      <td>11</td>\n",
              "      <td>11</td>\n",
              "    </tr>\n",
              "  </tbody>\n",
              "</table>\n",
              "</div>\n",
              "      <button class=\"colab-df-convert\" onclick=\"convertToInteractive('df-61c76daf-bdd4-4f26-bf7e-ce025e9385ae')\"\n",
              "              title=\"Convert this dataframe to an interactive table.\"\n",
              "              style=\"display:none;\">\n",
              "\n",
              "  <svg xmlns=\"http://www.w3.org/2000/svg\" height=\"24px\"viewBox=\"0 0 24 24\"\n",
              "       width=\"24px\">\n",
              "    <path d=\"M0 0h24v24H0V0z\" fill=\"none\"/>\n",
              "    <path d=\"M18.56 5.44l.94 2.06.94-2.06 2.06-.94-2.06-.94-.94-2.06-.94 2.06-2.06.94zm-11 1L8.5 8.5l.94-2.06 2.06-.94-2.06-.94L8.5 2.5l-.94 2.06-2.06.94zm10 10l.94 2.06.94-2.06 2.06-.94-2.06-.94-.94-2.06-.94 2.06-2.06.94z\"/><path d=\"M17.41 7.96l-1.37-1.37c-.4-.4-.92-.59-1.43-.59-.52 0-1.04.2-1.43.59L10.3 9.45l-7.72 7.72c-.78.78-.78 2.05 0 2.83L4 21.41c.39.39.9.59 1.41.59.51 0 1.02-.2 1.41-.59l7.78-7.78 2.81-2.81c.8-.78.8-2.07 0-2.86zM5.41 20L4 18.59l7.72-7.72 1.47 1.35L5.41 20z\"/>\n",
              "  </svg>\n",
              "      </button>\n",
              "\n",
              "\n",
              "\n",
              "    <div id=\"df-b44a74c4-070a-431f-a306-ef4d617dee6b\">\n",
              "      <button class=\"colab-df-quickchart\" onclick=\"quickchart('df-b44a74c4-070a-431f-a306-ef4d617dee6b')\"\n",
              "              title=\"Suggest charts.\"\n",
              "              style=\"display:none;\">\n",
              "\n",
              "<svg xmlns=\"http://www.w3.org/2000/svg\" height=\"24px\"viewBox=\"0 0 24 24\"\n",
              "     width=\"24px\">\n",
              "    <g>\n",
              "        <path d=\"M19 3H5c-1.1 0-2 .9-2 2v14c0 1.1.9 2 2 2h14c1.1 0 2-.9 2-2V5c0-1.1-.9-2-2-2zM9 17H7v-7h2v7zm4 0h-2V7h2v10zm4 0h-2v-4h2v4z\"/>\n",
              "    </g>\n",
              "</svg>\n",
              "      </button>\n",
              "    </div>\n",
              "\n",
              "<style>\n",
              "  .colab-df-quickchart {\n",
              "    background-color: #E8F0FE;\n",
              "    border: none;\n",
              "    border-radius: 50%;\n",
              "    cursor: pointer;\n",
              "    display: none;\n",
              "    fill: #1967D2;\n",
              "    height: 32px;\n",
              "    padding: 0 0 0 0;\n",
              "    width: 32px;\n",
              "  }\n",
              "\n",
              "  .colab-df-quickchart:hover {\n",
              "    background-color: #E2EBFA;\n",
              "    box-shadow: 0px 1px 2px rgba(60, 64, 67, 0.3), 0px 1px 3px 1px rgba(60, 64, 67, 0.15);\n",
              "    fill: #174EA6;\n",
              "  }\n",
              "\n",
              "  [theme=dark] .colab-df-quickchart {\n",
              "    background-color: #3B4455;\n",
              "    fill: #D2E3FC;\n",
              "  }\n",
              "\n",
              "  [theme=dark] .colab-df-quickchart:hover {\n",
              "    background-color: #434B5C;\n",
              "    box-shadow: 0px 1px 3px 1px rgba(0, 0, 0, 0.15);\n",
              "    filter: drop-shadow(0px 1px 2px rgba(0, 0, 0, 0.3));\n",
              "    fill: #FFFFFF;\n",
              "  }\n",
              "</style>\n",
              "\n",
              "    <script>\n",
              "      async function quickchart(key) {\n",
              "        const containerElement = document.querySelector('#' + key);\n",
              "        const charts = await google.colab.kernel.invokeFunction(\n",
              "            'suggestCharts', [key], {});\n",
              "      }\n",
              "    </script>\n",
              "\n",
              "      <script>\n",
              "\n",
              "function displayQuickchartButton(domScope) {\n",
              "  let quickchartButtonEl =\n",
              "    domScope.querySelector('#df-b44a74c4-070a-431f-a306-ef4d617dee6b button.colab-df-quickchart');\n",
              "  quickchartButtonEl.style.display =\n",
              "    google.colab.kernel.accessAllowed ? 'block' : 'none';\n",
              "}\n",
              "\n",
              "        displayQuickchartButton(document);\n",
              "      </script>\n",
              "      <style>\n",
              "    .colab-df-container {\n",
              "      display:flex;\n",
              "      flex-wrap:wrap;\n",
              "      gap: 12px;\n",
              "    }\n",
              "\n",
              "    .colab-df-convert {\n",
              "      background-color: #E8F0FE;\n",
              "      border: none;\n",
              "      border-radius: 50%;\n",
              "      cursor: pointer;\n",
              "      display: none;\n",
              "      fill: #1967D2;\n",
              "      height: 32px;\n",
              "      padding: 0 0 0 0;\n",
              "      width: 32px;\n",
              "    }\n",
              "\n",
              "    .colab-df-convert:hover {\n",
              "      background-color: #E2EBFA;\n",
              "      box-shadow: 0px 1px 2px rgba(60, 64, 67, 0.3), 0px 1px 3px 1px rgba(60, 64, 67, 0.15);\n",
              "      fill: #174EA6;\n",
              "    }\n",
              "\n",
              "    [theme=dark] .colab-df-convert {\n",
              "      background-color: #3B4455;\n",
              "      fill: #D2E3FC;\n",
              "    }\n",
              "\n",
              "    [theme=dark] .colab-df-convert:hover {\n",
              "      background-color: #434B5C;\n",
              "      box-shadow: 0px 1px 3px 1px rgba(0, 0, 0, 0.15);\n",
              "      filter: drop-shadow(0px 1px 2px rgba(0, 0, 0, 0.3));\n",
              "      fill: #FFFFFF;\n",
              "    }\n",
              "  </style>\n",
              "\n",
              "      <script>\n",
              "        const buttonEl =\n",
              "          document.querySelector('#df-61c76daf-bdd4-4f26-bf7e-ce025e9385ae button.colab-df-convert');\n",
              "        buttonEl.style.display =\n",
              "          google.colab.kernel.accessAllowed ? 'block' : 'none';\n",
              "\n",
              "        async function convertToInteractive(key) {\n",
              "          const element = document.querySelector('#df-61c76daf-bdd4-4f26-bf7e-ce025e9385ae');\n",
              "          const dataTable =\n",
              "            await google.colab.kernel.invokeFunction('convertToInteractive',\n",
              "                                                     [key], {});\n",
              "          if (!dataTable) return;\n",
              "\n",
              "          const docLinkHtml = 'Like what you see? Visit the ' +\n",
              "            '<a target=\"_blank\" href=https://colab.research.google.com/notebooks/data_table.ipynb>data table notebook</a>'\n",
              "            + ' to learn more about interactive tables.';\n",
              "          element.innerHTML = '';\n",
              "          dataTable['output_type'] = 'display_data';\n",
              "          await google.colab.output.renderOutput(dataTable, element);\n",
              "          const docLink = document.createElement('div');\n",
              "          docLink.innerHTML = docLinkHtml;\n",
              "          element.appendChild(docLink);\n",
              "        }\n",
              "      </script>\n",
              "    </div>\n",
              "  </div>\n"
            ]
          },
          "metadata": {},
          "execution_count": 215
        }
      ],
      "source": [
        "train_df.head()"
      ]
    },
    {
      "cell_type": "code",
      "execution_count": null,
      "metadata": {
        "colab": {
          "base_uri": "https://localhost:8080/"
        },
        "id": "FzbtwK_oFKIl",
        "outputId": "84678f54-e962-41da-f481-2e0e3bb4274b"
      },
      "outputs": [
        {
          "output_type": "execute_result",
          "data": {
            "text/plain": [
              "10    2149\n",
              "11    2039\n",
              "9     1940\n",
              "12    1701\n",
              "8     1365\n",
              "13    1317\n",
              "14     974\n",
              "7      933\n",
              "15     673\n",
              "6      479\n",
              "16     437\n",
              "17     289\n",
              "5      191\n",
              "18     176\n",
              "19     124\n",
              "20      61\n",
              "4       43\n",
              "21      35\n",
              "22      33\n",
              "23      11\n",
              "3        8\n",
              "24       8\n",
              "25       7\n",
              "26       3\n",
              "28       2\n",
              "27       1\n",
              "30       1\n",
              "Name: line_number, dtype: int64"
            ]
          },
          "metadata": {},
          "execution_count": 216
        }
      ],
      "source": [
        "train_df[\"line_number\"].value_counts()"
      ]
    },
    {
      "cell_type": "code",
      "execution_count": null,
      "metadata": {
        "colab": {
          "base_uri": "https://localhost:8080/",
          "height": 447
        },
        "id": "5ydWnU6cFLPI",
        "outputId": "c1221f2a-94a1-49b5-a6cb-35676cc22c52"
      },
      "outputs": [
        {
          "output_type": "execute_result",
          "data": {
            "text/plain": [
              "<Axes: ylabel='Frequency'>"
            ]
          },
          "metadata": {},
          "execution_count": 217
        },
        {
          "output_type": "display_data",
          "data": {
            "text/plain": [
              "<Figure size 640x480 with 1 Axes>"
            ],
            "image/png": "[encoded data removed]"
          },
          "metadata": {}
        }
      ],
      "source": [
        "train_df.line_number.plot.hist()"
      ]
    },
    {
      "cell_type": "code",
      "execution_count": null,
      "metadata": {
        "id": "5LkZ00GeFN0a"
      },
      "outputs": [],
      "source": [
        "train_line_numbers_one_hot = tf.one_hot(train_df[\"line_number\"].to_numpy(), depth=15)\n",
        "val_line_numbers_one_hot = tf.one_hot(dev_df[\"line_number\"].to_numpy(), depth=15)\n",
        "test_line_numbers_one_hot = tf.one_hot(test_df[\"line_number\"].to_numpy(), depth=15)"
      ]
    },
    {
      "cell_type": "code",
      "execution_count": null,
      "metadata": {
        "colab": {
          "base_uri": "https://localhost:8080/"
        },
        "id": "Z1f9OkKSFRk-",
        "outputId": "76eb6ac8-5e4d-4072-de1c-7ffdcc9d12ea"
      },
      "outputs": [
        {
          "output_type": "execute_result",
          "data": {
            "text/plain": [
              "(TensorShape([15000, 15]),\n",
              " <tf.Tensor: shape=(20, 15), dtype=float32, numpy=\n",
              " array([[0., 0., 0., 0., 0., 0., 0., 0., 0., 0., 0., 1., 0., 0., 0.],\n",
              "        [0., 0., 0., 0., 0., 0., 0., 0., 0., 0., 1., 0., 0., 0., 0.],\n",
              "        [0., 0., 0., 0., 0., 0., 0., 0., 0., 0., 0., 0., 0., 0., 1.],\n",
              "        [0., 0., 0., 0., 0., 0., 0., 0., 0., 0., 0., 0., 0., 0., 0.],\n",
              "        [0., 0., 0., 0., 0., 0., 0., 0., 0., 0., 0., 1., 0., 0., 0.],\n",
              "        [0., 0., 0., 0., 0., 0., 0., 0., 0., 0., 0., 0., 1., 0., 0.],\n",
              "        [0., 0., 0., 0., 0., 0., 0., 0., 0., 1., 0., 0., 0., 0., 0.],\n",
              "        [0., 0., 0., 0., 0., 0., 0., 0., 0., 0., 1., 0., 0., 0., 0.],\n",
              "        [0., 0., 0., 0., 0., 0., 0., 0., 1., 0., 0., 0., 0., 0., 0.],\n",
              "        [0., 0., 0., 0., 0., 0., 0., 1., 0., 0., 0., 0., 0., 0., 0.],\n",
              "        [0., 0., 0., 0., 0., 0., 0., 0., 0., 0., 0., 0., 0., 0., 0.],\n",
              "        [0., 0., 0., 0., 0., 0., 0., 0., 0., 0., 0., 0., 0., 0., 1.],\n",
              "        [0., 0., 0., 0., 0., 0., 0., 0., 1., 0., 0., 0., 0., 0., 0.],\n",
              "        [0., 0., 0., 0., 0., 0., 0., 0., 0., 0., 1., 0., 0., 0., 0.],\n",
              "        [0., 0., 0., 0., 0., 0., 0., 0., 0., 0., 0., 0., 1., 0., 0.],\n",
              "        [0., 0., 0., 0., 0., 0., 0., 0., 0., 1., 0., 0., 0., 0., 0.],\n",
              "        [0., 0., 0., 0., 0., 0., 0., 0., 0., 0., 0., 1., 0., 0., 0.],\n",
              "        [0., 0., 0., 0., 0., 0., 0., 0., 0., 1., 0., 0., 0., 0., 0.],\n",
              "        [0., 0., 0., 0., 0., 0., 0., 0., 0., 0., 0., 1., 0., 0., 0.],\n",
              "        [0., 0., 0., 0., 0., 0., 0., 0., 0., 0., 0., 0., 0., 0., 1.]],\n",
              "       dtype=float32)>)"
            ]
          },
          "metadata": {},
          "execution_count": 219
        }
      ],
      "source": [
        "train_line_numbers_one_hot.shape, train_line_numbers_one_hot[:20]"
      ]
    },
    {
      "cell_type": "code",
      "execution_count": null,
      "metadata": {
        "id": "FVTYElg8F68C"
      },
      "outputs": [],
      "source": [
        "train_ = tf.one_hot(train_df['total_lines'].to_numpy(),depth=20)\n",
        "test_ = tf.one_hot(dev_df['total_lines'].to_numpy(),depth=20)\n",
        "valid_ = tf.one_hot(test_df['total_lines'].to_numpy(),depth=20)"
      ]
    },
    {
      "cell_type": "markdown",
      "metadata": {
        "id": "Gtj_-cbuHbTn"
      },
      "source": [
        "## Tribid model\n",
        "1. Character level embedding\n",
        "2. Token - level model\n",
        "3. Positional - level embedding"
      ]
    },
    {
      "cell_type": "code",
      "execution_count": null,
      "metadata": {
        "colab": {
          "base_uri": "https://localhost:8080/"
        },
        "id": "lG6I5Hj9G-VU",
        "outputId": "83e2fce1-b08c-439f-f587-e9b2b255d35c"
      },
      "outputs": [
        {
          "output_type": "stream",
          "name": "stdout",
          "text": [
            "(None, 255)\n"
          ]
        }
      ],
      "source": [
        "token_i = tf.keras.layers.Input(shape=[],dtype='string')\n",
        "x = tf_hub_embedding_layer(token_i)\n",
        "token_op = tf.keras.layers.Dense(128, activation='tanh')(x)\n",
        "token_model = tf.keras.Model(token_i,token_op)\n",
        "\n",
        "char_ip = tf.keras.layers.Input(shape=(1,),dtype=tf.string)\n",
        "char_v = char_vectorizer(char_ip)\n",
        "print(char_v.shape)\n",
        "char_emb = char_embed(char_v)\n",
        "bidirection = tf.keras.layers.Bidirectional(tf.keras.layers.LSTM(24))(char_emb)\n",
        "char_model = tf.keras.Model(char_ip,bidirection)\n",
        "\n",
        "line_ip = tf.keras.layers.Input(shape=(15,), dtype=tf.int32)\n",
        "x = tf.keras.layers.Dense(32,activation='tanh')(line_ip)\n",
        "line_embeddd = tf.keras.Model(line_ip,x)\n",
        "\n",
        "total_lines_ip = tf.keras.layers.Input(shape=(20,), dtype=tf.int32)\n",
        "y = tf.keras.layers.Dense(32,activation='tanh')(total_lines_ip)\n",
        "total_line_embedd = tf.keras.Model(total_lines_ip,y)"
      ]
    },
    {
      "cell_type": "code",
      "execution_count": null,
      "metadata": {
        "id": "qgTM7RL3Jtee"
      },
      "outputs": [],
      "source": [
        "combined_ct = tf.keras.layers.Concatenate()([token_model.output, char_model.output])"
      ]
    },
    {
      "cell_type": "code",
      "execution_count": null,
      "metadata": {
        "id": "vlbcH1LOTAhy"
      },
      "outputs": [],
      "source": [
        "z = tf.keras.layers.Dense(256,activation='tanh')(combined_ct)\n",
        "z = tf.keras.layers.Dropout(0.5)(z)"
      ]
    },
    {
      "cell_type": "code",
      "execution_count": null,
      "metadata": {
        "id": "EXgu-br3NySb"
      },
      "outputs": [],
      "source": [
        "z = tf.keras.layers.Concatenate()([line_embeddd.output,total_line_embedd.output,z])"
      ]
    },
    {
      "cell_type": "code",
      "execution_count": null,
      "metadata": {
        "id": "jK026WJvOKRG"
      },
      "outputs": [],
      "source": []
    },
    {
      "cell_type": "code",
      "execution_count": null,
      "metadata": {
        "id": "iJHKjzuTOW9z"
      },
      "outputs": [],
      "source": [
        "output = tf.keras.layers.Dense(5,activation='softmax')(z)\n",
        "model_5 = tf.keras.Model(inputs=[line_embeddd.input,\n",
        "                                 total_line_embedd.input,\n",
        "                                 token_model.input,\n",
        "                                 char_model.input],outputs=output)"
      ]
    },
    {
      "cell_type": "code",
      "execution_count": null,
      "metadata": {
        "colab": {
          "base_uri": "https://localhost:8080/"
        },
        "id": "eLPKK2AvSjxK",
        "outputId": "637f0937-7411-46f7-b761-b5d64a51a013"
      },
      "outputs": [
        {
          "output_type": "stream",
          "name": "stdout",
          "text": [
            "Model: \"model_22\"\n",
            "__________________________________________________________________________________________________\n",
            " Layer (type)                   Output Shape         Param #     Connected to                     \n",
            "==================================================================================================\n",
            " input_17 (InputLayer)          [(None, 1)]          0           []                               \n",
            "                                                                                                  \n",
            " input_16 (InputLayer)          [(None,)]            0           []                               \n",
            "                                                                                                  \n",
            " char_vectorizer (TextVectoriza  (None, 255)         0           ['input_17[0][0]']               \n",
            " tion)                                                                                            \n",
            "                                                                                                  \n",
            " universal_sentence_encoder (Ke  (None, 512)         256797824   ['input_16[0][0]']               \n",
            " rasLayer)                                                                                        \n",
            "                                                                                                  \n",
            " char_embed (Embedding)         (None, 255, 25)      1750        ['char_vectorizer[2][0]']        \n",
            "                                                                                                  \n",
            " dense_20 (Dense)               (None, 128)          65664       ['universal_sentence_encoder[2][0\n",
            "                                                                 ]']                              \n",
            "                                                                                                  \n",
            " bidirectional_3 (Bidirectional  (None, 48)          9600        ['char_embed[2][0]']             \n",
            " )                                                                                                \n",
            "                                                                                                  \n",
            " concatenate_4 (Concatenate)    (None, 176)          0           ['dense_20[0][0]',               \n",
            "                                                                  'bidirectional_3[0][0]']        \n",
            "                                                                                                  \n",
            " input_18 (InputLayer)          [(None, 15)]         0           []                               \n",
            "                                                                                                  \n",
            " input_19 (InputLayer)          [(None, 20)]         0           []                               \n",
            "                                                                                                  \n",
            " dense_23 (Dense)               (None, 256)          45312       ['concatenate_4[0][0]']          \n",
            "                                                                                                  \n",
            " dense_21 (Dense)               (None, 32)           512         ['input_18[0][0]']               \n",
            "                                                                                                  \n",
            " dense_22 (Dense)               (None, 32)           672         ['input_19[0][0]']               \n",
            "                                                                                                  \n",
            " dropout_5 (Dropout)            (None, 256)          0           ['dense_23[0][0]']               \n",
            "                                                                                                  \n",
            " concatenate_5 (Concatenate)    (None, 320)          0           ['dense_21[0][0]',               \n",
            "                                                                  'dense_22[0][0]',               \n",
            "                                                                  'dropout_5[0][0]']              \n",
            "                                                                                                  \n",
            " dense_24 (Dense)               (None, 5)            1605        ['concatenate_5[0][0]']          \n",
            "                                                                                                  \n",
            "==================================================================================================\n",
            "Total params: 256,922,939\n",
            "Trainable params: 125,115\n",
            "Non-trainable params: 256,797,824\n",
            "__________________________________________________________________________________________________\n"
          ]
        }
      ],
      "source": [
        "model_5.summary()"
      ]
    },
    {
      "cell_type": "code",
      "execution_count": null,
      "metadata": {
        "colab": {
          "base_uri": "https://localhost:8080/",
          "height": 856
        },
        "id": "O7av30phSmMf",
        "outputId": "d8feca00-8883-4264-cc3c-54db07ae5a3a"
      },
      "outputs": [
        {
          "output_type": "execute_result",
          "data": {
            "image/png": "[encoded data removed]",
            "text/plain": [
              "<IPython.core.display.Image object>"
            ]
          },
          "metadata": {},
          "execution_count": 227
        }
      ],
      "source": [
        "from keras.utils import plot_model\n",
        "plot_model(model_5)"
      ]
    },
    {
      "cell_type": "code",
      "execution_count": null,
      "metadata": {
        "id": "1BSg0dabPpcg"
      },
      "outputs": [],
      "source": [
        "model_5.compile(loss=tf.keras.losses.CategoricalCrossentropy(label_smoothing=0.2),\n",
        "                optimizer='adam',\n",
        "                metrics=['accuracy'])"
      ]
    },
    {
      "cell_type": "code",
      "execution_count": null,
      "metadata": {
        "id": "S-j8gaPOspoj"
      },
      "outputs": [],
      "source": [
        "train_char_token_data = tf.data.Dataset.from_tensor_slices((train_line_numbers_one_hot,\n",
        "                                                            train_,\n",
        "                                                            train_sentences,\n",
        "                                                            train_chars))\n",
        "train_labels_ = tf.data.Dataset.from_tensor_slices(train_labels_one_hot)"
      ]
    },
    {
      "cell_type": "code",
      "execution_count": null,
      "metadata": {
        "id": "SdGHna-XtRJf"
      },
      "outputs": [],
      "source": [
        "train_dataset = tf.data.Dataset.zip((train_char_token_data,train_labels_))\n",
        "\n",
        "dataset = train_dataset.batch(32).prefetch(tf.data.AUTOTUNE)\n",
        "\n",
        "test_char_token_data = tf.data.Dataset.from_tensor_slices((test_line_numbers_one_hot,\n",
        "                                                            test_,\n",
        "                                                            test_sentences,\n",
        "                                                            test_chars))\n",
        "test_labels_ = tf.data.Dataset.from_tensor_slices(test_labels_one_hot)\n",
        "test_dataset = tf.data.Dataset.zip((test_char_token_data,test_labels_))\n",
        "\n",
        "test_dataset = test_dataset.batch(32).prefetch(tf.data.AUTOTUNE)"
      ]
    },
    {
      "cell_type": "code",
      "execution_count": null,
      "metadata": {
        "id": "xQbxp2cVuEeQ"
      },
      "outputs": [],
      "source": [
        "val_char_token_data = tf.data.Dataset.from_tensor_slices((val_line_numbers_one_hot,\n",
        "                                                            valid_,\n",
        "                                                            val_sentences,\n",
        "                                                            val_chars))\n",
        "val_labels_ = tf.data.Dataset.from_tensor_slices(val_labels_one_hot)\n",
        "val_dataset = tf.data.Dataset.zip((val_char_token_data,val_labels_))\n",
        "val_dataset = val_dataset.batch(32).prefetch(tf.data.AUTOTUNE)"
      ]
    },
    {
      "cell_type": "code",
      "execution_count": null,
      "metadata": {
        "id": "9asnjWNZuW3-",
        "colab": {
          "base_uri": "https://localhost:8080/"
        },
        "outputId": "20651b6b-bed1-4f63-cbe6-966dac55d3f4"
      },
      "outputs": [
        {
          "output_type": "stream",
          "name": "stdout",
          "text": [
            "Epoch 1/10\n",
            "469/469 [==============================] - 109s 219ms/step - loss: 0.7716 - accuracy: 0.9454 - val_loss: 0.7568 - val_accuracy: 0.9464\n",
            "Epoch 2/10\n",
            "469/469 [==============================] - 101s 215ms/step - loss: 0.7417 - accuracy: 0.9621 - val_loss: 0.7441 - val_accuracy: 0.9643\n",
            "Epoch 3/10\n",
            "469/469 [==============================] - 100s 212ms/step - loss: 0.7358 - accuracy: 0.9652 - val_loss: 0.7379 - val_accuracy: 0.9643\n",
            "Epoch 4/10\n",
            "469/469 [==============================] - 101s 215ms/step - loss: 0.7329 - accuracy: 0.9663 - val_loss: 0.7382 - val_accuracy: 0.9688\n",
            "Epoch 5/10\n",
            "469/469 [==============================] - 100s 213ms/step - loss: 0.7307 - accuracy: 0.9668 - val_loss: 0.7355 - val_accuracy: 0.9688\n",
            "Epoch 6/10\n",
            "469/469 [==============================] - 99s 212ms/step - loss: 0.7297 - accuracy: 0.9689 - val_loss: 0.7361 - val_accuracy: 0.9688\n",
            "Epoch 7/10\n",
            "469/469 [==============================] - 100s 214ms/step - loss: 0.7276 - accuracy: 0.9685 - val_loss: 0.7343 - val_accuracy: 0.9688\n",
            "Epoch 8/10\n",
            "469/469 [==============================] - 101s 216ms/step - loss: 0.7258 - accuracy: 0.9699 - val_loss: 0.7338 - val_accuracy: 0.9688\n",
            "Epoch 9/10\n",
            "469/469 [==============================] - 101s 215ms/step - loss: 0.7248 - accuracy: 0.9699 - val_loss: 0.7324 - val_accuracy: 0.9688\n",
            "Epoch 10/10\n",
            "469/469 [==============================] - 103s 220ms/step - loss: 0.7228 - accuracy: 0.9713 - val_loss: 0.7311 - val_accuracy: 0.9688\n"
          ]
        },
        {
          "output_type": "execute_result",
          "data": {
            "text/plain": [
              "<keras.callbacks.History at 0x7a66e555c970>"
            ]
          },
          "metadata": {},
          "execution_count": 232
        }
      ],
      "source": [
        "model_5.fit(dataset,\n",
        "            epochs=10,\n",
        "            validation_data=val_dataset,\n",
        "            validation_steps=int(0.1*len(val_dataset)))"
      ]
    },
    {
      "cell_type": "code",
      "execution_count": null,
      "metadata": {
        "colab": {
          "base_uri": "https://localhost:8080/"
        },
        "id": "pvXnFexBvU_g",
        "outputId": "29a4d8c1-7a09-428e-d10e-2e8f3fd6c772"
      },
      "outputs": [
        {
          "output_type": "stream",
          "name": "stdout",
          "text": [
            "79/79 [==============================] - 5s 66ms/step - loss: 0.7169 - accuracy: 0.9744\n"
          ]
        }
      ],
      "source": [
        "results = model_5.evaluate(test_dataset)"
      ]
    },
    {
      "cell_type": "code",
      "execution_count": null,
      "metadata": {
        "colab": {
          "base_uri": "https://localhost:8080/"
        },
        "id": "JlBrnvxmvbTB",
        "outputId": "7d5429da-902a-4cff-b0f3-cff6024312cd"
      },
      "outputs": [
        {
          "output_type": "stream",
          "name": "stdout",
          "text": [
            "79/79 [==============================] - 6s 61ms/step\n"
          ]
        },
        {
          "output_type": "execute_result",
          "data": {
            "text/plain": [
              "array([[0.02782972, 0.7998131 , 0.05819782, 0.04800453, 0.06615479],\n",
              "       [0.0338618 , 0.854118  , 0.02598639, 0.03577188, 0.05026191],\n",
              "       [0.02287346, 0.8747497 , 0.03024072, 0.03476479, 0.03737132],\n",
              "       ...,\n",
              "       [0.02591364, 0.8540926 , 0.04891944, 0.03315381, 0.03792062],\n",
              "       [0.03320625, 0.8827322 , 0.02562843, 0.03206242, 0.02637076],\n",
              "       [0.08352681, 0.763112  , 0.05332416, 0.05507485, 0.04496223]],\n",
              "      dtype=float32)"
            ]
          },
          "metadata": {},
          "execution_count": 234
        }
      ],
      "source": [
        "model_5_pred_probs = model_5.predict(test_dataset)\n",
        "model_5_pred_probs"
      ]
    },
    {
      "cell_type": "code",
      "execution_count": null,
      "metadata": {
        "id": "II89-2U5wc0n"
      },
      "outputs": [],
      "source": [
        "final_results = tf.argmax(model_5_pred_probs,axis=1)"
      ]
    },
    {
      "cell_type": "code",
      "execution_count": null,
      "metadata": {
        "colab": {
          "base_uri": "https://localhost:8080/"
        },
        "id": "Xb9l_CzxvyX_",
        "outputId": "f3c28a82-f650-4cb6-e25b-204da591e994"
      },
      "outputs": [
        {
          "output_type": "stream",
          "name": "stderr",
          "text": [
            "/usr/local/lib/python3.10/dist-packages/sklearn/metrics/_classification.py:1344: UndefinedMetricWarning: Precision and F-score are ill-defined and being set to 0.0 in labels with no predicted samples. Use `zero_division` parameter to control this behavior.\n",
            "  _warn_prf(average, modifier, msg_start, len(result))\n"
          ]
        },
        {
          "output_type": "execute_result",
          "data": {
            "text/plain": [
              "{'accuracy': 97.44,\n",
              " 'precision': 0.9727782256516564,\n",
              " 'recall': 0.9744,\n",
              " 'f1': 0.9735848485835795}"
            ]
          },
          "metadata": {},
          "execution_count": 236
        }
      ],
      "source": [
        "model_final_results = calculate_results(y_true=test_labels_encoded,\n",
        "                                        y_pred=final_results)\n",
        "model_final_results"
      ]
    },
    {
      "cell_type": "code",
      "execution_count": null,
      "metadata": {
        "id": "Caogw_BXwMUZ"
      },
      "outputs": [],
      "source": [
        "import pandas as pd\n",
        "all_models_results = pd.DataFrame({\"Multinomial_NaiveBayes\" : base_results,\n",
        "                                   \"Custom_token_embedding\" : model_1_results,\n",
        "                                   \"Universal_sentence_encoder\": model_2_results,\n",
        "                                   \"Character-level embedding\" : model_3_results,\n",
        "                                   \"Character-levl + Token-level\" : model_4_results,\n",
        "                                   \"Character-level + token-level + Positional-level\" : model_final_results})"
      ]
    },
    {
      "cell_type": "code",
      "execution_count": null,
      "metadata": {
        "id": "mhPvwnk40Zgl",
        "colab": {
          "base_uri": "https://localhost:8080/",
          "height": 237
        },
        "outputId": "97166ed5-2ab4-4c25-cf0b-f929b2c06900"
      },
      "outputs": [
        {
          "output_type": "execute_result",
          "data": {
            "text/plain": [
              "                                                  accuracy  precision  recall  \\\n",
              "Multinomial_NaiveBayes                               93.64   0.917629  0.9364   \n",
              "Custom_token_embedding                               96.92   0.970002  0.9692   \n",
              "Universal_sentence_encoder                           96.56   0.960799  0.9656   \n",
              "Character-level embedding                            76.76   0.661534  0.7676   \n",
              "Character-levl + Token-level                         96.84   0.963586  0.9684   \n",
              "Character-level + token-level + Positional-level     97.44   0.972778  0.9744   \n",
              "\n",
              "                                                        f1  \n",
              "Multinomial_NaiveBayes                            0.926837  \n",
              "Custom_token_embedding                            0.969506  \n",
              "Universal_sentence_encoder                        0.963174  \n",
              "Character-level embedding                         0.698096  \n",
              "Character-levl + Token-level                      0.965966  \n",
              "Character-level + token-level + Positional-level  0.973585  "
            ],
            "text/html": [
              "\n",
              "\n",
              "  <div id=\"df-4ac5e15b-e59e-4113-ad1f-159a94d27303\">\n",
              "    <div class=\"colab-df-container\">\n",
              "      <div>\n",
              "<style scoped>\n",
              "    .dataframe tbody tr th:only-of-type {\n",
              "        vertical-align: middle;\n",
              "    }\n",
              "\n",
              "    .dataframe tbody tr th {\n",
              "        vertical-align: top;\n",
              "    }\n",
              "\n",
              "    .dataframe thead th {\n",
              "        text-align: right;\n",
              "    }\n",
              "</style>\n",
              "<table border=\"1\" class=\"dataframe\">\n",
              "  <thead>\n",
              "    <tr style=\"text-align: right;\">\n",
              "      <th></th>\n",
              "      <th>accuracy</th>\n",
              "      <th>precision</th>\n",
              "      <th>recall</th>\n",
              "      <th>f1</th>\n",
              "    </tr>\n",
              "  </thead>\n",
              "  <tbody>\n",
              "    <tr>\n",
              "      <th>Multinomial_NaiveBayes</th>\n",
              "      <td>93.64</td>\n",
              "      <td>0.917629</td>\n",
              "      <td>0.9364</td>\n",
              "      <td>0.926837</td>\n",
              "    </tr>\n",
              "    <tr>\n",
              "      <th>Custom_token_embedding</th>\n",
              "      <td>96.92</td>\n",
              "      <td>0.970002</td>\n",
              "      <td>0.9692</td>\n",
              "      <td>0.969506</td>\n",
              "    </tr>\n",
              "    <tr>\n",
              "      <th>Universal_sentence_encoder</th>\n",
              "      <td>96.56</td>\n",
              "      <td>0.960799</td>\n",
              "      <td>0.9656</td>\n",
              "      <td>0.963174</td>\n",
              "    </tr>\n",
              "    <tr>\n",
              "      <th>Character-level embedding</th>\n",
              "      <td>76.76</td>\n",
              "      <td>0.661534</td>\n",
              "      <td>0.7676</td>\n",
              "      <td>0.698096</td>\n",
              "    </tr>\n",
              "    <tr>\n",
              "      <th>Character-levl + Token-level</th>\n",
              "      <td>96.84</td>\n",
              "      <td>0.963586</td>\n",
              "      <td>0.9684</td>\n",
              "      <td>0.965966</td>\n",
              "    </tr>\n",
              "    <tr>\n",
              "      <th>Character-level + token-level + Positional-level</th>\n",
              "      <td>97.44</td>\n",
              "      <td>0.972778</td>\n",
              "      <td>0.9744</td>\n",
              "      <td>0.973585</td>\n",
              "    </tr>\n",
              "  </tbody>\n",
              "</table>\n",
              "</div>\n",
              "      <button class=\"colab-df-convert\" onclick=\"convertToInteractive('df-4ac5e15b-e59e-4113-ad1f-159a94d27303')\"\n",
              "              title=\"Convert this dataframe to an interactive table.\"\n",
              "              style=\"display:none;\">\n",
              "\n",
              "  <svg xmlns=\"http://www.w3.org/2000/svg\" height=\"24px\"viewBox=\"0 0 24 24\"\n",
              "       width=\"24px\">\n",
              "    <path d=\"M0 0h24v24H0V0z\" fill=\"none\"/>\n",
              "    <path d=\"M18.56 5.44l.94 2.06.94-2.06 2.06-.94-2.06-.94-.94-2.06-.94 2.06-2.06.94zm-11 1L8.5 8.5l.94-2.06 2.06-.94-2.06-.94L8.5 2.5l-.94 2.06-2.06.94zm10 10l.94 2.06.94-2.06 2.06-.94-2.06-.94-.94-2.06-.94 2.06-2.06.94z\"/><path d=\"M17.41 7.96l-1.37-1.37c-.4-.4-.92-.59-1.43-.59-.52 0-1.04.2-1.43.59L10.3 9.45l-7.72 7.72c-.78.78-.78 2.05 0 2.83L4 21.41c.39.39.9.59 1.41.59.51 0 1.02-.2 1.41-.59l7.78-7.78 2.81-2.81c.8-.78.8-2.07 0-2.86zM5.41 20L4 18.59l7.72-7.72 1.47 1.35L5.41 20z\"/>\n",
              "  </svg>\n",
              "      </button>\n",
              "\n",
              "\n",
              "\n",
              "    <div id=\"df-186db284-7170-4338-98d5-f7cb075f2c59\">\n",
              "      <button class=\"colab-df-quickchart\" onclick=\"quickchart('df-186db284-7170-4338-98d5-f7cb075f2c59')\"\n",
              "              title=\"Suggest charts.\"\n",
              "              style=\"display:none;\">\n",
              "\n",
              "<svg xmlns=\"http://www.w3.org/2000/svg\" height=\"24px\"viewBox=\"0 0 24 24\"\n",
              "     width=\"24px\">\n",
              "    <g>\n",
              "        <path d=\"M19 3H5c-1.1 0-2 .9-2 2v14c0 1.1.9 2 2 2h14c1.1 0 2-.9 2-2V5c0-1.1-.9-2-2-2zM9 17H7v-7h2v7zm4 0h-2V7h2v10zm4 0h-2v-4h2v4z\"/>\n",
              "    </g>\n",
              "</svg>\n",
              "      </button>\n",
              "    </div>\n",
              "\n",
              "<style>\n",
              "  .colab-df-quickchart {\n",
              "    background-color: #E8F0FE;\n",
              "    border: none;\n",
              "    border-radius: 50%;\n",
              "    cursor: pointer;\n",
              "    display: none;\n",
              "    fill: #1967D2;\n",
              "    height: 32px;\n",
              "    padding: 0 0 0 0;\n",
              "    width: 32px;\n",
              "  }\n",
              "\n",
              "  .colab-df-quickchart:hover {\n",
              "    background-color: #E2EBFA;\n",
              "    box-shadow: 0px 1px 2px rgba(60, 64, 67, 0.3), 0px 1px 3px 1px rgba(60, 64, 67, 0.15);\n",
              "    fill: #174EA6;\n",
              "  }\n",
              "\n",
              "  [theme=dark] .colab-df-quickchart {\n",
              "    background-color: #3B4455;\n",
              "    fill: #D2E3FC;\n",
              "  }\n",
              "\n",
              "  [theme=dark] .colab-df-quickchart:hover {\n",
              "    background-color: #434B5C;\n",
              "    box-shadow: 0px 1px 3px 1px rgba(0, 0, 0, 0.15);\n",
              "    filter: drop-shadow(0px 1px 2px rgba(0, 0, 0, 0.3));\n",
              "    fill: #FFFFFF;\n",
              "  }\n",
              "</style>\n",
              "\n",
              "    <script>\n",
              "      async function quickchart(key) {\n",
              "        const containerElement = document.querySelector('#' + key);\n",
              "        const charts = await google.colab.kernel.invokeFunction(\n",
              "            'suggestCharts', [key], {});\n",
              "      }\n",
              "    </script>\n",
              "\n",
              "      <script>\n",
              "\n",
              "function displayQuickchartButton(domScope) {\n",
              "  let quickchartButtonEl =\n",
              "    domScope.querySelector('#df-186db284-7170-4338-98d5-f7cb075f2c59 button.colab-df-quickchart');\n",
              "  quickchartButtonEl.style.display =\n",
              "    google.colab.kernel.accessAllowed ? 'block' : 'none';\n",
              "}\n",
              "\n",
              "        displayQuickchartButton(document);\n",
              "      </script>\n",
              "      <style>\n",
              "    .colab-df-container {\n",
              "      display:flex;\n",
              "      flex-wrap:wrap;\n",
              "      gap: 12px;\n",
              "    }\n",
              "\n",
              "    .colab-df-convert {\n",
              "      background-color: #E8F0FE;\n",
              "      border: none;\n",
              "      border-radius: 50%;\n",
              "      cursor: pointer;\n",
              "      display: none;\n",
              "      fill: #1967D2;\n",
              "      height: 32px;\n",
              "      padding: 0 0 0 0;\n",
              "      width: 32px;\n",
              "    }\n",
              "\n",
              "    .colab-df-convert:hover {\n",
              "      background-color: #E2EBFA;\n",
              "      box-shadow: 0px 1px 2px rgba(60, 64, 67, 0.3), 0px 1px 3px 1px rgba(60, 64, 67, 0.15);\n",
              "      fill: #174EA6;\n",
              "    }\n",
              "\n",
              "    [theme=dark] .colab-df-convert {\n",
              "      background-color: #3B4455;\n",
              "      fill: #D2E3FC;\n",
              "    }\n",
              "\n",
              "    [theme=dark] .colab-df-convert:hover {\n",
              "      background-color: #434B5C;\n",
              "      box-shadow: 0px 1px 3px 1px rgba(0, 0, 0, 0.15);\n",
              "      filter: drop-shadow(0px 1px 2px rgba(0, 0, 0, 0.3));\n",
              "      fill: #FFFFFF;\n",
              "    }\n",
              "  </style>\n",
              "\n",
              "      <script>\n",
              "        const buttonEl =\n",
              "          document.querySelector('#df-4ac5e15b-e59e-4113-ad1f-159a94d27303 button.colab-df-convert');\n",
              "        buttonEl.style.display =\n",
              "          google.colab.kernel.accessAllowed ? 'block' : 'none';\n",
              "\n",
              "        async function convertToInteractive(key) {\n",
              "          const element = document.querySelector('#df-4ac5e15b-e59e-4113-ad1f-159a94d27303');\n",
              "          const dataTable =\n",
              "            await google.colab.kernel.invokeFunction('convertToInteractive',\n",
              "                                                     [key], {});\n",
              "          if (!dataTable) return;\n",
              "\n",
              "          const docLinkHtml = 'Like what you see? Visit the ' +\n",
              "            '<a target=\"_blank\" href=https://colab.research.google.com/notebooks/data_table.ipynb>data table notebook</a>'\n",
              "            + ' to learn more about interactive tables.';\n",
              "          element.innerHTML = '';\n",
              "          dataTable['output_type'] = 'display_data';\n",
              "          await google.colab.output.renderOutput(dataTable, element);\n",
              "          const docLink = document.createElement('div');\n",
              "          docLink.innerHTML = docLinkHtml;\n",
              "          element.appendChild(docLink);\n",
              "        }\n",
              "      </script>\n",
              "    </div>\n",
              "  </div>\n"
            ]
          },
          "metadata": {},
          "execution_count": 243
        }
      ],
      "source": [
        "all_models_results = all_models_results.transpose()\n",
        "all_models_results"
      ]
    },
    {
      "cell_type": "code",
      "execution_count": null,
      "metadata": {
        "id": "1VO5dB7-04nt",
        "colab": {
          "base_uri": "https://localhost:8080/",
          "height": 930
        },
        "outputId": "f89ec164-5577-4e0b-e3dd-58cc96435a76"
      },
      "outputs": [
        {
          "output_type": "execute_result",
          "data": {
            "text/plain": [
              "<matplotlib.legend.Legend at 0x7a66e7a0dc00>"
            ]
          },
          "metadata": {},
          "execution_count": 246
        },
        {
          "output_type": "display_data",
          "data": {
            "text/plain": [
              "<Figure size 1000x700 with 1 Axes>"
            ],
            "image/png": "[encoded data removed]"
          },
          "metadata": {}
        }
      ],
      "source": [
        "all_models_results['accuracy'] = all_models_results['accuracy']/100\n",
        "all_models_results.plot(kind='bar',figsize=(10,7)).legend(bbox_to_anchor=(1.0,1.0))"
      ]
    },
    {
      "cell_type": "code",
      "execution_count": null,
      "metadata": {
        "id": "V2qVxMmiECLf",
        "colab": {
          "base_uri": "https://localhost:8080/"
        },
        "outputId": "f382f28b-0e2f-4481-a47b-f62f9e60088e"
      },
      "outputs": [
        {
          "output_type": "stream",
          "name": "stderr",
          "text": [
            "WARNING:absl:Found untraced functions such as _update_step_xla, lstm_cell_10_layer_call_fn, lstm_cell_10_layer_call_and_return_conditional_losses, lstm_cell_11_layer_call_fn, lstm_cell_11_layer_call_and_return_conditional_losses while saving (showing 5 of 5). These functions will not be directly callable after loading.\n"
          ]
        }
      ],
      "source": [
        "model_5.save(\"Skimlit_tribrid_model\")"
      ]
    },
    {
      "cell_type": "code",
      "source": [
        "abs = \"\"\"\n",
        "Mental illness, including depression, anxiety and bipolar disorder, accounts for a significant proportion of global disability and poses a substantial social, economic and heath burden. Treatment is presently dominated by pharmacotherapy, such as antidepressants, and psychotherapy, such as cognitive behavioural therapy; however, such treatments avert less than half of the disease burden, suggesting that additional strategies are needed to prevent and treat mental disorders. There are now consistent mechanistic, observational and interventional data to suggest diet quality may be a modifiable risk factor for mental illness. This review provides an overview of the nutritional psychiatry field. It includes a discussion of the neurobiological mechanisms likely modulated by diet, the use of dietary and nutraceutical interventions in mental disorders, and recommendations for further research. Potential biological pathways related to mental disorders include inflammation, oxidative stress, the gut microbiome, epigenetic modifications and neuroplasticity. Consistent epidemiological evidence, particularly for depression, suggests an association between measures of diet quality and mental health, across multiple populations and age groups; these do not appear to be explained by other demographic, lifestyle factors or reverse causality. Our recently published intervention trial provides preliminary clinical evidence that dietary interventions in clinically diagnosed populations are feasible and can provide significant clinical benefit. Furthermore, nutraceuticals including n-3 fatty acids, folate, S-adenosylmethionine, N-acetyl cysteine and probiotics, among others, are promising avenues for future research. Continued research is now required to investigate the efficacy of intervention studies in large cohorts and within clinically relevant populations, particularly in patients with schizophrenia, bipolar and anxiety disorders.\n",
        " \"\"\""
      ],
      "metadata": {
        "id": "a6UXMgQTXRiw"
      },
      "execution_count": null,
      "outputs": []
    },
    {
      "cell_type": "code",
      "source": [
        "import nltk\n",
        "nltk.download('punkt')\n",
        "from nltk.tokenize import sent_tokenize\n",
        "def preprocess(text):\n",
        "  input = sent_tokenize(text)\n",
        "  return input"
      ],
      "metadata": {
        "colab": {
          "base_uri": "https://localhost:8080/"
        },
        "id": "aFhvwtIuawXt",
        "outputId": "a6952603-0760-4b0c-88ad-d1700811e1ae"
      },
      "execution_count": null,
      "outputs": [
        {
          "output_type": "stream",
          "name": "stderr",
          "text": [
            "[nltk_data] Downloading package punkt to /root/nltk_data...\n",
            "[nltk_data]   Package punkt is already up-to-date!\n"
          ]
        }
      ]
    },
    {
      "cell_type": "code",
      "source": [
        "sample_text = preprocess(abs)"
      ],
      "metadata": {
        "id": "6KeurduqYbap"
      },
      "execution_count": null,
      "outputs": []
    },
    {
      "cell_type": "code",
      "source": [
        "sample_text"
      ],
      "metadata": {
        "colab": {
          "base_uri": "https://localhost:8080/"
        },
        "id": "MHdIwaExbXKW",
        "outputId": "741d78ac-325a-4eef-8dc0-baabb6cbc216"
      },
      "execution_count": null,
      "outputs": [
        {
          "output_type": "execute_result",
          "data": {
            "text/plain": [
              "['\\nMental illness, including depression, anxiety and bipolar disorder, accounts for a significant proportion of global disability and poses a substantial social, economic and heath burden.',\n",
              " 'Treatment is presently dominated by pharmacotherapy, such as antidepressants, and psychotherapy, such as cognitive behavioural therapy; however, such treatments avert less than half of the disease burden, suggesting that additional strategies are needed to prevent and treat mental disorders.',\n",
              " 'There are now consistent mechanistic, observational and interventional data to suggest diet quality may be a modifiable risk factor for mental illness.',\n",
              " 'This review provides an overview of the nutritional psychiatry field.',\n",
              " 'It includes a discussion of the neurobiological mechanisms likely modulated by diet, the use of dietary and nutraceutical interventions in mental disorders, and recommendations for further research.',\n",
              " 'Potential biological pathways related to mental disorders include inflammation, oxidative stress, the gut microbiome, epigenetic modifications and neuroplasticity.',\n",
              " 'Consistent epidemiological evidence, particularly for depression, suggests an association between measures of diet quality and mental health, across multiple populations and age groups; these do not appear to be explained by other demographic, lifestyle factors or reverse causality.',\n",
              " 'Our recently published intervention trial provides preliminary clinical evidence that dietary interventions in clinically diagnosed populations are feasible and can provide significant clinical benefit.',\n",
              " 'Furthermore, nutraceuticals including n-3 fatty acids, folate, S-adenosylmethionine, N-acetyl cysteine and probiotics, among others, are promising avenues for future research.',\n",
              " 'Continued research is now required to investigate the efficacy of intervention studies in large cohorts and within clinically relevant populations, particularly in patients with schizophrenia, bipolar and anxiety disorders.']"
            ]
          },
          "metadata": {},
          "execution_count": 272
        }
      ]
    },
    {
      "cell_type": "code",
      "source": [
        "model_0.predict(sample_text)"
      ],
      "metadata": {
        "colab": {
          "base_uri": "https://localhost:8080/"
        },
        "id": "yZcm9zpoen8N",
        "outputId": "13a70054-6552-4af3-bb87-aec5caa23c56"
      },
      "execution_count": null,
      "outputs": [
        {
          "output_type": "execute_result",
          "data": {
            "text/plain": [
              "array([1, 1, 1, 1, 1, 1, 1, 1, 1, 1])"
            ]
          },
          "metadata": {},
          "execution_count": 274
        }
      ]
    }
  ],
  "metadata": {
    "accelerator": "GPU",
    "colab": {
      "provenance": []
    },
    "kernelspec": {
      "display_name": "Python 3",
      "name": "python3"
    },
    "language_info": {
      "name": "python"
    }
  },
  "nbformat": 4,
  "nbformat_minor": 0
}